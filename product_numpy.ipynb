{
 "cells": [
  {
   "cell_type": "code",
   "execution_count": 1,
   "id": "f688772a",
   "metadata": {},
   "outputs": [
    {
     "name": "stdout",
     "output_type": "stream",
     "text": [
      "120\n"
     ]
    }
   ],
   "source": [
    "##product use prod()\n",
    "## it gave product od each element in array\n",
    "import numpy as np\n",
    "x=np.array([1,2,3,4,5])                  #1*2*3*4*5\n",
    "y=np.prod(x)\n",
    "print(y)"
   ]
  },
  {
   "cell_type": "code",
   "execution_count": 2,
   "id": "f2e4b3ef",
   "metadata": {},
   "outputs": [
    {
     "name": "stdout",
     "output_type": "stream",
     "text": [
      "3628800\n"
     ]
    }
   ],
   "source": [
    "##product of two array\n",
    "import numpy as np\n",
    "x=np.array([1,2,3,4,5]) \n",
    "z=np.array([6,7,8,9,10]) \n",
    "y=np.prod([x,z])                     ##1*2*3*4*5*6*7*8*9*10\n",
    "print(y)"
   ]
  },
  {
   "cell_type": "code",
   "execution_count": 3,
   "id": "a7626b4a",
   "metadata": {},
   "outputs": [
    {
     "name": "stdout",
     "output_type": "stream",
     "text": [
      "[  120 30240]\n"
     ]
    }
   ],
   "source": [
    "##product over axis\n",
    "import numpy as np\n",
    "x=np.array([1,2,3,4,5]) \n",
    "z=np.array([6,7,8,9,10]) \n",
    "y=np.prod([x,z],axis=1)                     \n",
    "print(y)"
   ]
  },
  {
   "cell_type": "code",
   "execution_count": 4,
   "id": "b4f2dd00",
   "metadata": {},
   "outputs": [
    {
     "name": "stdout",
     "output_type": "stream",
     "text": [
      "[  1   2   6  24 120]\n"
     ]
    }
   ],
   "source": [
    "##cumulative product \n",
    "##partial product\n",
    "import numpy as np\n",
    "x=np.array([1,2,3,4,5])\n",
    "y=np.cumulative_prod(x)\n",
    "print(y)"
   ]
  }
 ],
 "metadata": {
  "kernelspec": {
   "display_name": "Python 3",
   "language": "python",
   "name": "python3"
  },
  "language_info": {
   "codemirror_mode": {
    "name": "ipython",
    "version": 3
   },
   "file_extension": ".py",
   "mimetype": "text/x-python",
   "name": "python",
   "nbconvert_exporter": "python",
   "pygments_lexer": "ipython3",
   "version": "3.13.3"
  }
 },
 "nbformat": 4,
 "nbformat_minor": 5
}
