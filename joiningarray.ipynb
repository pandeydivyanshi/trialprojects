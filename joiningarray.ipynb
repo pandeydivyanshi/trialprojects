{
 "cells": [
  {
   "cell_type": "code",
   "execution_count": 1,
   "id": "5554fa97",
   "metadata": {},
   "outputs": [
    {
     "name": "stdout",
     "output_type": "stream",
     "text": [
      "[98787    25  2376   132    33   332]\n"
     ]
    }
   ],
   "source": [
    "##joining array by fnc np.concatenate()\n",
    "import numpy as np\n",
    "x=np.array([98787,25,2376])\n",
    "y=np.array([132,33,332])\n",
    "z=np.concatenate((x,y))\n",
    "print(z)"
   ]
  },
  {
   "cell_type": "code",
   "execution_count": 2,
   "id": "22b19dd6",
   "metadata": {},
   "outputs": [
    {
     "name": "stdout",
     "output_type": "stream",
     "text": [
      "[[  2342    454    873    288   4989    998]\n",
      " [  3323  78344 785334   3987   6774    988]]\n"
     ]
    }
   ],
   "source": [
    "##adding 2D array along with row (axis=1)\n",
    "import numpy as py\n",
    "x=np.array([[2342,454,873],[3323,78344,785334]])         # one row two cloumn\n",
    "y=np.array([[288,4989,998],[3987,6774,988]])\n",
    "z=np.concatenate((x,y),axis=1)                          #add two column in one row [[  2342    454    873    288   4989    998]\n",
    "                                                                                  ##[  3323  78344 785334   3987   6774    988]]\n",
    "print(z)"
   ]
  },
  {
   "cell_type": "code",
   "execution_count": 3,
   "id": "f02a19dd",
   "metadata": {},
   "outputs": [
    {
     "name": "stdout",
     "output_type": "stream",
     "text": [
      "[[98787   132]\n",
      " [   25    33]\n",
      " [ 2376   332]]\n"
     ]
    }
   ],
   "source": [
    "##joining array by fnc np.stack()\n",
    "import numpy as np\n",
    "x=np.array([98787,25,2376])\n",
    "y=np.array([132,33,332])\n",
    "z=np.stack((x,y),axis=1)                                 ##add row element and give column wise[[98787   132]\n",
    "                                                                                              ##[   25    33]\n",
    "                                                                                              ##[ 2376   332]]\n",
    "print(z)"
   ]
  },
  {
   "cell_type": "code",
   "execution_count": 4,
   "id": "ef6d2ed8",
   "metadata": {},
   "outputs": [
    {
     "name": "stdout",
     "output_type": "stream",
     "text": [
      "[98787    25  2376   132    33   332]\n"
     ]
    }
   ],
   "source": [
    "##stacking along with row np.hstack()\n",
    "import numpy as np\n",
    "x=np.array([98787,25,2376])\n",
    "y=np.array([132,33,332])\n",
    "z=np.hstack((x,y))               ##it add an gave one row   [98787    25  2376   132    33   332]\n",
    "print(z)"
   ]
  },
  {
   "cell_type": "code",
   "execution_count": 5,
   "id": "ac4e6503",
   "metadata": {},
   "outputs": [
    {
     "name": "stdout",
     "output_type": "stream",
     "text": [
      "[[98787    25  2376]\n",
      " [  132    33   332]]\n"
     ]
    }
   ],
   "source": [
    "##stacking along with rocolum np.vstack()\n",
    "import numpy as np\n",
    "x=np.array([98787,25,2376])\n",
    "y=np.array([132,33,332])\n",
    "z=np.vstack((x,y))               ##it add an gave one row   [[98787    25  2376]\n",
    "                                                           ##[  132    33   332]]\n",
    "print(z)"
   ]
  },
  {
   "cell_type": "code",
   "execution_count": 6,
   "id": "6a871b24",
   "metadata": {},
   "outputs": [
    {
     "name": "stdout",
     "output_type": "stream",
     "text": [
      "[[[98787   132]\n",
      "  [   25    33]\n",
      "  [ 2376   332]]]\n"
     ]
    }
   ],
   "source": [
    "##stacking along with height/depth np.dstack()\n",
    "import numpy as np\n",
    "x=np.array([98787,25,2376])\n",
    "y=np.array([132,33,332])\n",
    "z=np.dstack((x,y))               ##it add an gave one row   [[[98787   132]\n",
    "                                                            ##[   25    33]\n",
    "                                                            ##[ 2376   332]]]\n",
    "print(z)"
   ]
  },
  {
   "cell_type": "code",
   "execution_count": null,
   "id": "e39f6f30",
   "metadata": {},
   "outputs": [],
   "source": []
  },
  {
   "cell_type": "code",
   "execution_count": null,
   "id": "5f94d9d7",
   "metadata": {},
   "outputs": [],
   "source": []
  }
 ],
 "metadata": {
  "kernelspec": {
   "display_name": "Python 3",
   "language": "python",
   "name": "python3"
  },
  "language_info": {
   "codemirror_mode": {
    "name": "ipython",
    "version": 3
   },
   "file_extension": ".py",
   "mimetype": "text/x-python",
   "name": "python",
   "nbconvert_exporter": "python",
   "pygments_lexer": "ipython3",
   "version": "3.13.3"
  }
 },
 "nbformat": 4,
 "nbformat_minor": 5
}
