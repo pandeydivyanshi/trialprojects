{
 "cells": [
  {
   "cell_type": "code",
   "execution_count": 1,
   "id": "c2ca73f3",
   "metadata": {},
   "outputs": [
    {
     "name": "stdout",
     "output_type": "stream",
     "text": [
      "[array([ 6254, 87667]), array([ 876, 8985]), array([  678, 98787])]\n"
     ]
    }
   ],
   "source": [
    "##split array imply dividing array\n",
    "##np.array_split()\n",
    "import numpy as np\n",
    "x=np.array([6254,87667,876,8985,678,98787])\n",
    "y=np.array_split(x,3)\n",
    "print(y)"
   ]
  },
  {
   "cell_type": "code",
   "execution_count": 2,
   "id": "cd028b53",
   "metadata": {},
   "outputs": [
    {
     "name": "stdout",
     "output_type": "stream",
     "text": [
      "[array([ 6254, 87667]), array([ 876, 8985]), array([678]), array([98787])]\n"
     ]
    }
   ],
   "source": [
    "##into 4 diff array\n",
    "import numpy as np\n",
    "x=np.array([6254,87667,876,8985,678,98787])\n",
    "y=np.array_split(x,4)\n",
    "print(y)"
   ]
  },
  {
   "cell_type": "code",
   "execution_count": 3,
   "id": "82789806",
   "metadata": {},
   "outputs": [
    {
     "name": "stdout",
     "output_type": "stream",
     "text": [
      "[array([ 6254, 87667]), array([876]), array([8985]), array([678]), array([98787])]\n"
     ]
    }
   ],
   "source": [
    "##into 5 diff array\n",
    "import numpy as np\n",
    "x=np.array([6254,87667,876,8985,678,98787])\n",
    "y=np.array_split(x,5)\n",
    "print(y)"
   ]
  },
  {
   "cell_type": "code",
   "execution_count": 4,
   "id": "9bc33509",
   "metadata": {},
   "outputs": [
    {
     "name": "stdout",
     "output_type": "stream",
     "text": [
      "[ 6254 87667]\n",
      "[ 876 8985]\n",
      "[  678 98787]\n"
     ]
    }
   ],
   "source": [
    "## split into array with index\n",
    "import numpy as np\n",
    "x=np.array([6254,87667,876,8985,678,98787])\n",
    "y=np.array_split(x,3)\n",
    "print(y[0])                                             #[ 6254 87667]                   \n",
    "print(y[1])                                             #[ 876 8985]\n",
    "print(y[2])                                             #[  678 98787]"
   ]
  },
  {
   "cell_type": "code",
   "execution_count": 5,
   "id": "633baedf",
   "metadata": {},
   "outputs": [
    {
     "name": "stdout",
     "output_type": "stream",
     "text": [
      "[array([[11, 22],\n",
      "       [33, 44]]), array([[55, 66],\n",
      "       [77, 88]]), array([[  99, 1010],\n",
      "       [1111, 1212]])]\n"
     ]
    }
   ],
   "source": [
    "## split of 2 D array\n",
    "import numpy as np\n",
    "x=np.array([[11,22],[33,44],[55,66],[77,88],[99,1010],[1111,1212]])\n",
    "y=np.array_split(x,3)\n",
    "print(y)\n",
    "##output[array([[11, 22],\n",
    "       #[33, 44]]), array([[55, 66],\n",
    "       #[77, 88]]), array([[  99, 1010],\n",
    "       #[1111, 1212]])]\n"
   ]
  },
  {
   "cell_type": "code",
   "execution_count": 6,
   "id": "8d1259e1",
   "metadata": {},
   "outputs": [
    {
     "name": "stdout",
     "output_type": "stream",
     "text": [
      "[array([[ 1,  1, 22],\n",
      "       [ 3,  3, 44]]), array([[ 5,  5, 66],\n",
      "       [ 7,  7, 88]]), array([[   9,    9, 1010],\n",
      "       [ 111,    1, 1212]])]\n"
     ]
    }
   ],
   "source": [
    "#split 2D int three 2D\n",
    "import numpy as np\n",
    "x=np.array([[1,1,22],[3,3,44],[5,5,66],[7,7,88],[9,9,1010],[111,1,1212]])\n",
    "y=np.array_split(x,3)\n",
    "print(y)\n",
    "##output\n",
    "#[array([[ 1,  1, 22],\n",
    "       #[ 3,  3, 44]]), array([[ 5,  5, 66],\n",
    "       #[ 7,  7, 88]]), array([[   9,    9, 1010],\n",
    "       #[ 111,    1, 1212]])]"
   ]
  },
  {
   "cell_type": "code",
   "execution_count": 7,
   "id": "0b4f30a4",
   "metadata": {},
   "outputs": [
    {
     "name": "stdout",
     "output_type": "stream",
     "text": [
      "[array([[  1],\n",
      "       [  3],\n",
      "       [  5],\n",
      "       [  7],\n",
      "       [  9],\n",
      "       [111]]), array([[1],\n",
      "       [3],\n",
      "       [5],\n",
      "       [7],\n",
      "       [9],\n",
      "       [1]]), array([[  22],\n",
      "       [  44],\n",
      "       [  66],\n",
      "       [  88],\n",
      "       [1010],\n",
      "       [1212]])]\n"
     ]
    }
   ],
   "source": [
    "##split 2 D into three 2D along with row\n",
    "import numpy as np\n",
    "x=np.array([[1,1,22],[3,3,44],[5,5,66],[7,7,88],[9,9,1010],[111,1,1212]])\n",
    "y=np.array_split(x,3,axis=1)\n",
    "print(y)\n",
    "#output\n",
    "# [array([[  1],\n",
    "#        [  3],\n",
    "#        [  5],\n",
    "#        [  7],\n",
    "#        [  9],\n",
    "#        [111]]), array([[1],\n",
    "#        [3],\n",
    "#        [5],\n",
    "#        [7],\n",
    "#        [9],\n",
    "#        [1]]), array([[  22],\n",
    "#        [  44],\n",
    "#        [  66],\n",
    "#        [  88],\n",
    "#        [1010],\n",
    "#        [1212]])]"
   ]
  },
  {
   "cell_type": "code",
   "execution_count": 8,
   "id": "accf2594",
   "metadata": {},
   "outputs": [
    {
     "name": "stdout",
     "output_type": "stream",
     "text": [
      "[array([[  1],\n",
      "       [  3],\n",
      "       [  5],\n",
      "       [  7],\n",
      "       [  9],\n",
      "       [111]]), array([[1],\n",
      "       [3],\n",
      "       [5],\n",
      "       [7],\n",
      "       [9],\n",
      "       [1]]), array([[  22],\n",
      "       [  44],\n",
      "       [  66],\n",
      "       [  88],\n",
      "       [1010],\n",
      "       [1212]])]\n"
     ]
    }
   ],
   "source": [
    "##split by h split\n",
    "import numpy as np\n",
    "x=np.array([[1,1,22],[3,3,44],[5,5,66],[7,7,88],[9,9,1010],[111,1,1212]])\n",
    "y=np.hsplit(x,3,)\n",
    "print(y)\n",
    "##output\n",
    "# [array([[  1],\n",
    "#        [  3],\n",
    "#        [  5],\n",
    "#        [  7],\n",
    "#        [  9],\n",
    "#        [111]]), array([[1],\n",
    "#        [3],\n",
    "#        [5],\n",
    "#        [7],\n",
    "#        [9],\n",
    "#        [1]]), array([[  22],\n",
    "#        [  44],\n",
    "#        [  66],\n",
    "#        [  88],\n",
    "#        [1010],\n",
    "#        [1212]])]"
   ]
  },
  {
   "cell_type": "code",
   "execution_count": null,
   "id": "52c77283",
   "metadata": {},
   "outputs": [],
   "source": []
  },
  {
   "cell_type": "code",
   "execution_count": null,
   "id": "8c46006c",
   "metadata": {},
   "outputs": [],
   "source": []
  }
 ],
 "metadata": {
  "kernelspec": {
   "display_name": "Python 3",
   "language": "python",
   "name": "python3"
  },
  "language_info": {
   "codemirror_mode": {
    "name": "ipython",
    "version": 3
   },
   "file_extension": ".py",
   "mimetype": "text/x-python",
   "name": "python",
   "nbconvert_exporter": "python",
   "pygments_lexer": "ipython3",
   "version": "3.13.3"
  }
 },
 "nbformat": 4,
 "nbformat_minor": 5
}
