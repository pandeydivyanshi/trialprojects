{
 "cells": [
  {
   "cell_type": "code",
   "execution_count": null,
   "id": "5bc620da",
   "metadata": {},
   "outputs": [],
   "source": [
    "## pandas series is like column in table,it is 1D array which holds data of any type.\n",
    "##here we wii create a simple pandas series\n",
    "import pandas as pd\n",
    "x=[1,2,34,5,6,7,9]\n",
    "y=pd.Series(x)\n",
    "print(y)"
   ]
  },
  {
   "cell_type": "code",
   "execution_count": null,
   "id": "5cc9b323",
   "metadata": {},
   "outputs": [],
   "source": [
    "#labeling -label can use to access a specified value\n",
    "import pandas as pd\n",
    "x=[1,2,34,5,6,7,9]\n",
    "y=pd.Series(x)\n",
    "print(y[2])"
   ]
  },
  {
   "cell_type": "code",
   "execution_count": null,
   "id": "ad438337",
   "metadata": {},
   "outputs": [],
   "source": [
    "##with create labels we can create our own labels(we can change indexing by anything like alphabets)\n",
    "import pandas as pd\n",
    "x=[1,2,34,5,6,7,9]\n",
    "y=pd.Series(x,index=[\"a\",\"b\",\"c\",\"d\",\"e\",\"f\",\"g\"])\n",
    "print(y)"
   ]
  },
  {
   "cell_type": "code",
   "execution_count": null,
   "id": "5af8659d",
   "metadata": {},
   "outputs": [],
   "source": [
    "## labeling -label can use to access a specified value(after creating own labels)\n",
    "import pandas as pd\n",
    "x=[1,2,34,5,6,7,9]\n",
    "y=pd.Series(x,index=[\"a\",\"b\",\"c\",\"d\",\"e\",\"f\",\"g\"])\n",
    "print(y[\"d\"])"
   ]
  },
  {
   "cell_type": "code",
   "execution_count": null,
   "id": "7c6fafb4",
   "metadata": {},
   "outputs": [],
   "source": [
    "##we can also use a key or value object like a dictionary , when creating a series\n",
    "##here we will create a simple pandas series from a dictionary\n",
    "import pandas as pd\n",
    "cal={\"d1\":333,\"d2\":389,\"d3\":420}\n",
    "z=pd.Series(cal)\n",
    "print(z)"
   ]
  },
  {
   "cell_type": "code",
   "execution_count": null,
   "id": "08a0260e",
   "metadata": {},
   "outputs": [],
   "source": [
    "## now we will create a series using only data from d1 and d2\n",
    "import pandas as pd\n",
    "cal={\"d1\":333,\"d2\":389,\"d3\":420}\n",
    "aar=pd.Series(cal,index=[\"d1\",\"d2\"])\n",
    "print(aar)"
   ]
  },
  {
   "cell_type": "code",
   "execution_count": null,
   "id": "49541402",
   "metadata": {},
   "outputs": [],
   "source": [
    "##DATAFRAMS:data sets in pandas are usually mutidimensional tabels,called data frames\n",
    "#series are like columns and datafram is whole table\n",
    "##we will create a data fram from 2 series\n",
    "import pandas as pd\n",
    "x={'cal':[430,465,355],\"duration\":[50,40,45]}\n",
    "y=pd.DataFrame(x)\n",
    "print(y)"
   ]
  }
 ],
 "metadata": {
  "language_info": {
   "name": "python"
  }
 },
 "nbformat": 4,
 "nbformat_minor": 5
}
