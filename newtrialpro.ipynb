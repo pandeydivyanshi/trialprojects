{
 "cells": [
  {
   "cell_type": "code",
   "execution_count": null,
   "id": "2fb58178",
   "metadata": {},
   "outputs": [],
   "source": [
    "# project.py\n",
    "import statistics as stat\n",
    "\n",
    "user_input = input(\"Enter numbers separated by commas: \")  # e.g. 1,2,3,4\n",
    "\n",
    "# Convert input string to a list of integers\n",
    "my_list = [int(x.strip()) for x in user_input.split(\",\")]\n",
    "\n",
    "# Calculations\n",
    "print(\"List:\", my_list)\n",
    "print(\"Sum:\", sum(my_list))\n",
    "print(\"Mean:\", stat.mean(my_list))\n",
    "print(\"Mode:\", stat.mode(my_list))\n",
    "print(\"Median:\", stat.median(my_list))\n",
    "print(\"Standard Deviation:\", stat.stdev(my_list))\n",
    "print(\"Variance:\", stat.variance(my_list))\n",
    "print(\"Minimum:\", min(my_list))\n",
    "print(\"Maximum:\", max(my_list))\n",
    "print(\"Range:\", max(my_list) - min(my_list))\n",
    "print(\"Sorted List:\", sorted(my_list))\n",
    "print(\"population Variance:\", stat.pvariance(my_list))\n",
    "print(\"population Standard Deviation:\", stat.pstdev(my_list))\n",
    "print(\"count:\", len(my_list))\n",
    "print(\"Geometric Mean:\", stat.geometric_mean(my_list))\n",
    "print(\"Harmonic Mean:\", stat.harmonic_mean(my_list))\n",
    "print(\"quantiles:\", stat.quantiles(my_list, n=4))  # Quartiles"
   ]
  }
 ],
 "metadata": {
  "kernelspec": {
   "display_name": "Python 3",
   "language": "python",
   "name": "python3"
  },
  "language_info": {
   "codemirror_mode": {
    "name": "ipython",
    "version": 3
   },
   "file_extension": ".py",
   "mimetype": "text/x-python",
   "name": "python",
   "nbconvert_exporter": "python",
   "pygments_lexer": "ipython3",
   "version": "3.13.3"
  }
 },
 "nbformat": 4,
 "nbformat_minor": 5
}
