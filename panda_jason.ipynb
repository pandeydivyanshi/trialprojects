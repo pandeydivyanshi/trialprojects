{
 "cells": [
  {
   "cell_type": "code",
   "execution_count": 1,
   "id": "f857e668",
   "metadata": {},
   "outputs": [
    {
     "name": "stdout",
     "output_type": "stream",
     "text": [
      "   id     name  age        department  score  passed\n",
      "0   1    Alice   22  Computer Science   85.5    True\n",
      "1   2      Bob   21       Mathematics   78.0    True\n",
      "2   3  Charlie   23        Statistics   66.5    True\n",
      "3   4    David   20           Physics   45.0   False\n",
      "4   5      Eve   22         Economics   90.0    True\n"
     ]
    }
   ],
   "source": [
    "##JSON:big data sets are normally storted and extracted as json\n",
    "#json is plain text,but it has a format of an object\n",
    "##loading the json into dataframe\n",
    "import pandas as pd\n",
    "x=pd.read_json(r'c:\\Users\\divya\\Downloads\\students.json')\n",
    "print(x.to_string())\n"
   ]
  },
  {
   "cell_type": "code",
   "execution_count": 2,
   "id": "06da0227",
   "metadata": {},
   "outputs": [
    {
     "name": "stdout",
     "output_type": "stream",
     "text": [
      "   id     name  age        department  score\n",
      "0   1    Alice   22  Computer Science   85.5\n",
      "1   2      Bob   21       Mathematics   78.0\n",
      "2   3  Charlie   23        Statistics   66.5\n",
      "3   4    David   20           Physics   45.0\n",
      "4   5      Eve   22         Economics   90.0\n"
     ]
    }
   ],
   "source": [
    "#dictinoary as a JASON:if your json code is not in a file but in python dictinoary,then you can do all below\n",
    "import pandas as pd\n",
    "data =[\n",
    "  {\n",
    "    \"id\": 1,\n",
    "    \"name\": \"Alice\",\n",
    "    \"age\": 22,\n",
    "    \"department\": \"Computer Science\",\n",
    "    \"score\": 85.5,\n",
    "    \n",
    "  },\n",
    "  {\n",
    "    \"id\": 2,\n",
    "    \"name\": \"Bob\",\n",
    "    \"age\": 21,\n",
    "    \"department\": \"Mathematics\",\n",
    "    \"score\": 78.0,\n",
    "    \n",
    "  },\n",
    "  {\n",
    "    \"id\": 3,\n",
    "    \"name\": \"Charlie\",\n",
    "    \"age\": 23,\n",
    "    \"department\": \"Statistics\",\n",
    "    \"score\": 66.5,\n",
    "    \n",
    "  },\n",
    "  {\n",
    "    \"id\": 4,\n",
    "    \"name\": \"David\",\n",
    "    \"age\": 20,\n",
    "    \"department\": \"Physics\",\n",
    "    \"score\": 45.0,\n",
    "    \n",
    "  },\n",
    "  {\n",
    "    \"id\": 5,\n",
    "    \"name\": \"Eve\",\n",
    "    \"age\": 22,\n",
    "    \"department\": \"Economics\",\n",
    "    \"score\": 90.0,\n",
    "    \n",
    "  }\n",
    "]\n",
    "y=pd.DataFrame(data)\n",
    "print(y)"
   ]
  }
 ],
 "metadata": {
  "kernelspec": {
   "display_name": "Python 3",
   "language": "python",
   "name": "python3"
  },
  "language_info": {
   "codemirror_mode": {
    "name": "ipython",
    "version": 3
   },
   "file_extension": ".py",
   "mimetype": "text/x-python",
   "name": "python",
   "nbconvert_exporter": "python",
   "pygments_lexer": "ipython3",
   "version": "3.13.3"
  }
 },
 "nbformat": 4,
 "nbformat_minor": 5
}
