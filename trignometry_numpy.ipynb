{
 "cells": [
  {
   "cell_type": "code",
   "execution_count": 1,
   "id": "970e202d",
   "metadata": {},
   "outputs": [
    {
     "name": "stdout",
     "output_type": "stream",
     "text": [
      "1.0\n"
     ]
    }
   ],
   "source": [
    "##trignometry function :ufunc such sin(),cos(),tan() gave value in raidian\n",
    "## for value in degree sin value of pi/2\n",
    "import numpy as np\n",
    "x=np.sin(np.pi/2)\n",
    "print(x)"
   ]
  },
  {
   "cell_type": "code",
   "execution_count": 2,
   "id": "2dc52446",
   "metadata": {},
   "outputs": [
    {
     "name": "stdout",
     "output_type": "stream",
     "text": [
      "[1.         0.8660254  0.70710678 0.58778525]\n"
     ]
    }
   ],
   "source": [
    "##now we will find sin value of an array\n",
    "import numpy as np\n",
    "x=np.array([np.pi/2,np.pi/3,np.pi/4,np.pi/5])\n",
    "y=np.sin(x)\n",
    "print(y)"
   ]
  },
  {
   "cell_type": "code",
   "execution_count": 3,
   "id": "43978776",
   "metadata": {},
   "outputs": [
    {
     "name": "stdout",
     "output_type": "stream",
     "text": [
      "[1.57079633 3.14159265 4.71238898 6.28318531]\n"
     ]
    }
   ],
   "source": [
    "##degree into radian:by default radiun\n",
    "##radians values are pi/180*degree value\n",
    "import numpy as np \n",
    "x=np.array([90,180,270,360])\n",
    "y=np.deg2rad(x)\n",
    "print(y)"
   ]
  },
  {
   "cell_type": "code",
   "execution_count": 4,
   "id": "31da8de8",
   "metadata": {},
   "outputs": [
    {
     "name": "stdout",
     "output_type": "stream",
     "text": [
      "[90. 60. 45. 36.]\n"
     ]
    }
   ],
   "source": [
    "##radian into degree\n",
    "import numpy as np \n",
    "x=np.array([np.pi/2,np.pi/3,np.pi/4,np.pi/5])\n",
    "y=np.rad2deg(x)\n",
    "print(y)"
   ]
  },
  {
   "cell_type": "code",
   "execution_count": 5,
   "id": "88efc623",
   "metadata": {},
   "outputs": [
    {
     "name": "stdout",
     "output_type": "stream",
     "text": [
      "1.5707963267948966\n"
     ]
    }
   ],
   "source": [
    "##find angles:arcsin(),arccos(),arctan() take values in radian and produce tha corresponding sin,cos,tan\n",
    "\n",
    "#we will now find the angle of 1.0\n",
    "import numpy as np\n",
    "x=np.arcsin(1.0)\n",
    "print(x)"
   ]
  },
  {
   "cell_type": "code",
   "execution_count": 6,
   "id": "18e1e5bf",
   "metadata": {},
   "outputs": [
    {
     "name": "stdout",
     "output_type": "stream",
     "text": [
      "[ 1.57079633 -1.57079633  0.10016742]\n"
     ]
    }
   ],
   "source": [
    "##angle of each values in array\n",
    "import numpy as np\n",
    "x=np.array([1,-1,.1])\n",
    "y=np.arcsin(x)\n",
    "print(y)"
   ]
  },
  {
   "cell_type": "code",
   "execution_count": 7,
   "id": "5abca8a1",
   "metadata": {},
   "outputs": [
    {
     "name": "stdout",
     "output_type": "stream",
     "text": [
      "5.0\n"
     ]
    }
   ],
   "source": [
    "##we can also find hypotenous using the pythagoras theorem in numpy\n",
    "##hypto() function that take value in radians and produce correspoinding sin,cos,tan value\n",
    "##base=4,perendicular3\n",
    "import numpy as np\n",
    "base=3\n",
    "perp=4\n",
    "x=np.hypot(base,perp)\n",
    "print(x)"
   ]
  }
 ],
 "metadata": {
  "kernelspec": {
   "display_name": "Python 3",
   "language": "python",
   "name": "python3"
  },
  "language_info": {
   "codemirror_mode": {
    "name": "ipython",
    "version": 3
   },
   "file_extension": ".py",
   "mimetype": "text/x-python",
   "name": "python",
   "nbconvert_exporter": "python",
   "pygments_lexer": "ipython3",
   "version": "3.13.3"
  }
 },
 "nbformat": 4,
 "nbformat_minor": 5
}
