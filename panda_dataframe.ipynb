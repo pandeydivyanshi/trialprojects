{
 "cells": [
  {
   "cell_type": "code",
   "execution_count": null,
   "id": "772e814b",
   "metadata": {},
   "outputs": [],
   "source": [
    "##dataframe : it is 2D data structure like 2D array include row and column\n",
    "import pandas as pd\n",
    "data={\"cal\":[2332,324,2424],\"dur\":[45,56,43]}\n",
    "x=pd.DataFrame(data)\n",
    "print(x)"
   ]
  },
  {
   "cell_type": "code",
   "execution_count": null,
   "id": "3f3bd365",
   "metadata": {},
   "outputs": [],
   "source": [
    "##locate row: pandas use the loc attribute to return one or more specified row\n",
    "#(in form of series)\n",
    "import pandas as pd\n",
    "data={\"cal\":[2332,324,2424],\"dur\":[45,56,43]}\n",
    "x=pd.DataFrame(data)\n",
    "print(x.loc[0])"
   ]
  },
  {
   "cell_type": "code",
   "execution_count": null,
   "id": "223b741b",
   "metadata": {},
   "outputs": [],
   "source": [
    "#rutrn row 0 and 1(in form of data frame)\n",
    "import pandas as pd\n",
    "data={\"cal\":[2332,324,2424],\"dur\":[45,56,43]}\n",
    "x=pd.DataFrame(data)\n",
    "print(x.loc[[0,1]])"
   ]
  },
  {
   "cell_type": "code",
   "execution_count": null,
   "id": "7ea556dc",
   "metadata": {},
   "outputs": [],
   "source": [
    "##NAME INDEX:with index arrgument ,we can name our own index\n",
    "import pandas as pd\n",
    "data={\"cal\":[2332,324,2424],\"dur\":[45,56,43]}\n",
    "x=pd.DataFrame(data,index=[\"d1\",\"d2\",\"d3\"])\n",
    "print(x)"
   ]
  },
  {
   "cell_type": "code",
   "execution_count": null,
   "id": "95a5edf3",
   "metadata": {},
   "outputs": [],
   "source": [
    "##locate name index\n",
    "import pandas as pd\n",
    "data={\"cal\":[2332,324,2424],\"dur\":[45,56,43]}\n",
    "x=pd.DataFrame(data,index=[\"d1\",\"d2\",\"d3\"])\n",
    "print(x.loc[\"d2\"])"
   ]
  },
  {
   "cell_type": "code",
   "execution_count": null,
   "id": "62243c75",
   "metadata": {},
   "outputs": [],
   "source": [
    "##output in dataframe\n",
    "import pandas as pd\n",
    "data={\"cal\":[2332,324,2424],\"dur\":[45,56,43]}\n",
    "x=pd.DataFrame(data,index=[\"d1\",\"d2\",\"d3\"])\n",
    "print(x.loc[[\"d2\",\"d3\"]])"
   ]
  },
  {
   "cell_type": "code",
   "execution_count": null,
   "id": "2a3a1543",
   "metadata": {},
   "outputs": [],
   "source": [
    "##load the data from csv file into dataframe i.e. data.csv\n",
    "import pandas as pd\n",
    "file=pd.read_csv('data.csv')\n",
    "print(file)"
   ]
  }
 ],
 "metadata": {
  "language_info": {
   "name": "python"
  }
 },
 "nbformat": 4,
 "nbformat_minor": 5
}
