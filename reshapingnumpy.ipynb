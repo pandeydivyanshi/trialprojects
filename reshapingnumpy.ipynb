{
 "cells": [
  {
   "cell_type": "code",
   "execution_count": 1,
   "id": "ec763b63",
   "metadata": {},
   "outputs": [
    {
     "name": "stdout",
     "output_type": "stream",
     "text": [
      "[[ 1  2  3]\n",
      " [ 4  5  6]\n",
      " [ 7  8  9]\n",
      " [10 11 12]]\n"
     ]
    }
   ],
   "source": [
    "##reshaping-means changing shape of array like adding or remving the elements\n",
    "#1D to 2D\n",
    "import numpy as np\n",
    "x=np.array([1,2,3,4,5,6,7,8,9,10,11,12])\n",
    "y=x.reshape(4,3)\n",
    "print(y)"
   ]
  },
  {
   "cell_type": "code",
   "execution_count": 2,
   "id": "78dcbf03",
   "metadata": {},
   "outputs": [
    {
     "name": "stdout",
     "output_type": "stream",
     "text": [
      "[[[ 1  2]\n",
      "  [ 3  4]\n",
      "  [ 5  6]]\n",
      "\n",
      " [[ 7  8]\n",
      "  [ 9 10]\n",
      "  [11 12]]]\n"
     ]
    }
   ],
   "source": [
    "#1D to 3D\n",
    "import numpy as np\n",
    "x=np.array([1,2,3,4,5,6,7,8,9,10,11,12])\n",
    "y=x.reshape(2,3,2)\n",
    "print(y)"
   ]
  },
  {
   "cell_type": "code",
   "execution_count": 3,
   "id": "0f50830f",
   "metadata": {},
   "outputs": [
    {
     "name": "stdout",
     "output_type": "stream",
     "text": [
      "[1 2 3 4 5 6 7 8]\n"
     ]
    }
   ],
   "source": [
    "##checking reshaping is copy or view\n",
    "import numpy as np\n",
    "x=np.array([1,2,3,4,5,6,7,8])\n",
    "print(x.reshape(2,4).base)                              ##it gave orignal array imply reshape is veiw array"
   ]
  },
  {
   "cell_type": "code",
   "execution_count": 4,
   "id": "c392c657",
   "metadata": {},
   "outputs": [
    {
     "name": "stdout",
     "output_type": "stream",
     "text": [
      "[[[1 2]\n",
      "  [3 4]]\n",
      "\n",
      " [[5 6]\n",
      "  [7 8]]]\n"
     ]
    }
   ],
   "source": [
    "##unkown dimension-only allow one unkwon dimension for reshaping\n",
    "##let pass -1\n",
    "import numpy as np\n",
    "x=np.array([1,2,3,4,5,6,7,8])\n",
    "y=x.reshape(2,2, -1)\n",
    "print(y)\n"
   ]
  },
  {
   "cell_type": "code",
   "execution_count": 5,
   "id": "11a846b4",
   "metadata": {},
   "outputs": [
    {
     "name": "stdout",
     "output_type": "stream",
     "text": [
      "[1 2 3 4 5 6 7 8]\n"
     ]
    }
   ],
   "source": [
    "#flattering the array by converting multidimensional array to 1D\n",
    "import numpy as np\n",
    "x=np.array([[1,2,3,4],[5,6,7,8]])\n",
    "y=x.reshape(-1)                                    #by default it gave 1D array\n",
    "print(y)\n",
    "\n",
    "## other fnc for changing shape,flatten,ravel and also rearranging element rot90,flip,flipir,flipud"
   ]
  },
  {
   "cell_type": "code",
   "execution_count": null,
   "id": "db5664fb",
   "metadata": {},
   "outputs": [],
   "source": []
  },
  {
   "cell_type": "code",
   "execution_count": null,
   "id": "ca2479a9",
   "metadata": {},
   "outputs": [],
   "source": []
  },
  {
   "cell_type": "code",
   "execution_count": null,
   "id": "59cb98d3",
   "metadata": {},
   "outputs": [],
   "source": []
  }
 ],
 "metadata": {
  "kernelspec": {
   "display_name": "Python 3",
   "language": "python",
   "name": "python3"
  },
  "language_info": {
   "codemirror_mode": {
    "name": "ipython",
    "version": 3
   },
   "file_extension": ".py",
   "mimetype": "text/x-python",
   "name": "python",
   "nbconvert_exporter": "python",
   "pygments_lexer": "ipython3",
   "version": "3.13.3"
  }
 },
 "nbformat": 4,
 "nbformat_minor": 5
}
