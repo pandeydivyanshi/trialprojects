{
 "cells": [
  {
   "cell_type": "code",
   "execution_count": null,
   "id": "2a16b14d",
   "metadata": {},
   "outputs": [],
   "source": [
    "##read csv files:(CSV stands for comma seprated value)\n",
    "##it is simply way to store big and biggest data sets\n",
    "##csv file contain plain text.\n",
    "##loading csv into dataframe with to string\n",
    "import pandas as pd\n",
    "df=pd.read_csv(r'c:\\Users\\divya\\Downloads\\pandas_practice_dataset.csv')      ##whole path\n",
    "print(df.to_string())   "
   ]
  },
  {
   "cell_type": "code",
   "execution_count": null,
   "id": "63386ded",
   "metadata": {},
   "outputs": [],
   "source": [
    "##loading csv into dataframe without to string\n",
    "import pandas as pd\n",
    "df=pd.read_csv(r'c:\\Users\\divya\\Downloads\\pandas_practice_dataset.csv')      ##whole path\n",
    "print(df)                         ##it shows first 5 data and `last 5 data and middle data are dotted\n"
   ]
  },
  {
   "cell_type": "code",
   "execution_count": null,
   "id": "b8d5fb20",
   "metadata": {},
   "outputs": [],
   "source": [
    "##max rows: you can check your systems maximum row with\n",
    "import pandas as pd\n",
    "print(pd.options.display.max_rows)"
   ]
  },
  {
   "cell_type": "code",
   "execution_count": null,
   "id": "3bc28418",
   "metadata": {},
   "outputs": [],
   "source": [
    "##**YES we can increase maximum number of rows to display the entire dataframe\n",
    "# import panda as pd\n",
    "# pd.options.display.max_row = 100\n",
    "# df=pd.read_csv(r'c:\\Users\\divya\\Downloads\\pandas_practice_dataset.csv')  \n",
    "# print(df.to_string())"
   ]
  },
  {
   "cell_type": "code",
   "execution_count": null,
   "id": "ffc0879c",
   "metadata": {},
   "outputs": [],
   "source": []
  }
 ],
 "metadata": {
  "language_info": {
   "name": "python"
  }
 },
 "nbformat": 4,
 "nbformat_minor": 5
}
