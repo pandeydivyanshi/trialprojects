{
 "cells": [
  {
   "cell_type": "code",
   "execution_count": 1,
   "id": "ab133fc3",
   "metadata": {},
   "outputs": [
    {
     "name": "stdout",
     "output_type": "stream",
     "text": [
      "2\n"
     ]
    }
   ],
   "source": [
    "##GCD : lowest common difference\n",
    "##gcd of 2 numbers\n",
    "import numpy as np\n",
    "x=6\n",
    "y=4\n",
    "z=np.gcd(x,y)\n",
    "print(z)"
   ]
  },
  {
   "cell_type": "code",
   "execution_count": 2,
   "id": "908c21fb",
   "metadata": {},
   "outputs": [
    {
     "name": "stdout",
     "output_type": "stream",
     "text": [
      "1\n"
     ]
    }
   ],
   "source": [
    "##gcd of array\n",
    "import numpy as np\n",
    "x=np.array([4,9,5,8])\n",
    "y=np.gcd.reduce(x)        #reduce() ufunc ,lcm() fnc on each element and it will reduce by 1D\n",
    "print(y)"
   ]
  },
  {
   "cell_type": "code",
   "execution_count": 3,
   "id": "e1c0a690",
   "metadata": {},
   "outputs": [
    {
     "name": "stdout",
     "output_type": "stream",
     "text": [
      "1\n"
     ]
    }
   ],
   "source": [
    "##gcd of all of an array where the array contain all integer from 1 to 10\n",
    "import numpy as np\n",
    "x=np.arange(1,11)\n",
    "y=np.gcd.reduce(x)\n",
    "print(y)"
   ]
  }
 ],
 "metadata": {
  "kernelspec": {
   "display_name": "Python 3",
   "language": "python",
   "name": "python3"
  },
  "language_info": {
   "codemirror_mode": {
    "name": "ipython",
    "version": 3
   },
   "file_extension": ".py",
   "mimetype": "text/x-python",
   "name": "python",
   "nbconvert_exporter": "python",
   "pygments_lexer": "ipython3",
   "version": "3.13.3"
  }
 },
 "nbformat": 4,
 "nbformat_minor": 5
}
