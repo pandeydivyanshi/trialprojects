{
 "cells": [
  {
   "cell_type": "code",
   "execution_count": null,
   "id": "be993f27",
   "metadata": {},
   "outputs": [],
   "source": [
    "##rounding decimal- 5 ways in numpy :truncation,fix,rounding,floor,ceil\n",
    "##truncation:trunc() and fix()\n",
    "##these command remove decimal and return integer closest to zero\n",
    "import numpy as np\n",
    "x=np.array([12.32,23.44,3.24,3.34,.34,24.99,-32.3])\n",
    "z=np.trunc(x)\n",
    "print(x)\n",
    "print(z)\n",
    "y=np.fix(x)\n",
    "print(y)"
   ]
  },
  {
   "cell_type": "code",
   "execution_count": null,
   "id": "4400bc5c",
   "metadata": {},
   "outputs": [],
   "source": [
    "##rounding rounoff use around()\n",
    "x=np.array([12.32,23.44,3.24,3.34,.34,24.99,-32.3])\n",
    "z=np.around(x)\n",
    "print(x)\n",
    "print(z)"
   ]
  },
  {
   "cell_type": "code",
   "execution_count": null,
   "id": "15f7e66e",
   "metadata": {},
   "outputs": [],
   "source": [
    "#floor() round off decimal to lower integer\n",
    "x=np.array([12.32,23.44,3.24,3.34,.34,24.99,-32.3])\n",
    "z=np.floor(x)\n",
    "print(x)\n",
    "print(z) "
   ]
  },
  {
   "cell_type": "code",
   "execution_count": null,
   "id": "674f8444",
   "metadata": {},
   "outputs": [],
   "source": [
    "##ceil() round off decimal to greater interger\n",
    "x=np.array([12.32,23.44,3.24,3.34,.34,24.99,-32.3])\n",
    "z=np.ceil(x)\n",
    "print(x)\n",
    "print(z) "
   ]
  },
  {
   "cell_type": "code",
   "execution_count": null,
   "id": "17123a80",
   "metadata": {},
   "outputs": [],
   "source": []
  },
  {
   "cell_type": "code",
   "execution_count": null,
   "id": "5da3fe46",
   "metadata": {},
   "outputs": [],
   "source": []
  },
  {
   "cell_type": "code",
   "execution_count": null,
   "id": "c36f88e6",
   "metadata": {},
   "outputs": [],
   "source": []
  }
 ],
 "metadata": {
  "language_info": {
   "name": "python"
  }
 },
 "nbformat": 4,
 "nbformat_minor": 5
}
