{
 "cells": [
  {
   "cell_type": "code",
   "execution_count": 1,
   "id": "43a17a46",
   "metadata": {},
   "outputs": [
    {
     "name": "stdout",
     "output_type": "stream",
     "text": [
      "[2 3 4 5]\n",
      "[1 3 5 7 9]\n",
      "[ 2  3  4  5  6  7  8  9 10]\n",
      "[1 2 3 4 5]\n"
     ]
    }
   ],
   "source": [
    "##slicing array means extracting a portion of the array\n",
    "##syntax: array[start:stop:step],[start:end]\n",
    "#example of slicing array from1 to 5\n",
    "import numpy as np\n",
    "n=np.array([1, 2, 3, 4, 5, 6, 7, 8, 9, 10])\n",
    "print(n[1:5])                                       ## Output: [2 3 4 5]\n",
    "print(n[0:9:2])                                     ## Output: [1 3 5 7 9]\n",
    "print(n[1:])                                        ## Output: [ 2  3  4  5  6  7  8  9 10]\n",
    "print(n[:5])                                        ## Output: [1 2 3 4 5]"
   ]
  },
  {
   "cell_type": "code",
   "execution_count": 2,
   "id": "a7ee51bc",
   "metadata": {},
   "outputs": [
    {
     "name": "stdout",
     "output_type": "stream",
     "text": [
      "[6 7 8 9]\n",
      "[ 6  7  8  9 10]\n"
     ]
    }
   ],
   "source": [
    "##negative slicing\n",
    "import numpy as np\n",
    "n=np.array([1, 2, 3, 4, 5, 6, 7, 8, 9, 10])\n",
    "print(n[-5:-1])                                     ## Output: [6 7 8 9]\n",
    "print(n[-5:])                                       ## Output: [ 6  7  8  9 10]\n"
   ]
  },
  {
   "cell_type": "code",
   "execution_count": 3,
   "id": "4e5cf75d",
   "metadata": {},
   "outputs": [
    {
     "name": "stdout",
     "output_type": "stream",
     "text": [
      "[1 3 5 7 9]\n"
     ]
    }
   ],
   "source": [
    "##now print every other element\n",
    "import numpy as np\n",
    "n=np.array([1, 2, 3, 4, 5, 6, 7, 8, 9, 10])\n",
    "print(n[::2])                                       ## Output: [1 3 5 7 9]"
   ]
  },
  {
   "cell_type": "code",
   "execution_count": 4,
   "id": "b758e3c7",
   "metadata": {},
   "outputs": [
    {
     "name": "stdout",
     "output_type": "stream",
     "text": [
      "[  2   3 645]\n",
      "[   6  567  989 6799]\n",
      "[665 989]\n",
      "[[  2   3 645]\n",
      " [  5   6 567]]\n"
     ]
    }
   ],
   "source": [
    "##2D array slicing\n",
    "import numpy as np\n",
    "n = np.array([[1, 2, 3,645,665,678], [4, 5, 6,567,989,6799]])\n",
    "print(n[0, 1:4])                                    ## Output: [2 3 645]\n",
    "print(n[1, 2:])                                     ## Output: [6 567 989 6799]\n",
    "##a value from both rows/index\n",
    "print(n[0:2,4])                                  ## Output: [665 989]\n",
    "print(n[0:2, 1:4])                                  ## Output: [[2 3 645]\n",
    "                                                     ##          [5 6 567]]"
   ]
  },
  {
   "cell_type": "code",
   "execution_count": 5,
   "id": "1c8fd2cc",
   "metadata": {},
   "outputs": [
    {
     "name": "stdout",
     "output_type": "stream",
     "text": [
      "6\n",
      "8\n",
      "[2 5]\n",
      "[[ 4  5  6]\n",
      " [10 11 12]]\n"
     ]
    }
   ],
   "source": [
    "##3D array slicing                                                     \n",
    "import numpy as np\n",
    "a= np.array([[[1, 2, 3], [4, 5, 6]], [[7, 8, 9], [10, 11, 12]]])\n",
    "print(a[0, 1, 2])                                    ## Output: 6\n",
    "print(a[1, 0, 1])                                    ## Output: 8\n",
    "print(a[0, :, 1])                                    ## Output: [2 5]\n",
    "print(a[:, 1, :])                                    ## Output: [[ 4  5  6]\n",
    "                                                     ##          [10 11 12]]"
   ]
  },
  {
   "cell_type": "code",
   "execution_count": null,
   "id": "e1af5f8b",
   "metadata": {},
   "outputs": [],
   "source": []
  },
  {
   "cell_type": "code",
   "execution_count": null,
   "id": "67e749cd",
   "metadata": {},
   "outputs": [],
   "source": []
  },
  {
   "cell_type": "code",
   "execution_count": null,
   "id": "a1431fd2",
   "metadata": {},
   "outputs": [],
   "source": []
  }
 ],
 "metadata": {
  "kernelspec": {
   "display_name": "Python 3",
   "language": "python",
   "name": "python3"
  },
  "language_info": {
   "codemirror_mode": {
    "name": "ipython",
    "version": 3
   },
   "file_extension": ".py",
   "mimetype": "text/x-python",
   "name": "python",
   "nbconvert_exporter": "python",
   "pygments_lexer": "ipython3",
   "version": "3.13.3"
  }
 },
 "nbformat": 4,
 "nbformat_minor": 5
}
