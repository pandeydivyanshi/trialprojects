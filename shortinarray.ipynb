{
 "cells": [
  {
   "cell_type": "code",
   "execution_count": 1,
   "id": "7f2fe89c",
   "metadata": {},
   "outputs": [
    {
     "name": "stdout",
     "output_type": "stream",
     "text": [
      "[  33   34   79  222 1111 7875 9867]\n"
     ]
    }
   ],
   "source": [
    "##in numpy fnc sort() use for sorting array\n",
    "import numpy as np\n",
    "x=np.array([1111,222,33,34,79,7875,9867])\n",
    "print(np.sort(x))"
   ]
  },
  {
   "cell_type": "code",
   "execution_count": 2,
   "id": "d4e45b4c",
   "metadata": {},
   "outputs": [
    {
     "name": "stdout",
     "output_type": "stream",
     "text": [
      "['asman' 'divyanshi' 'earth' 'jamin' 'moon' 'sun']\n"
     ]
    }
   ],
   "source": [
    "##sorting of alphabets\n",
    "import numpy as np\n",
    "x=np.array(['sun','moon','earth','divyanshi','asman','jamin'])\n",
    "print(np.sort(x))"
   ]
  },
  {
   "cell_type": "code",
   "execution_count": 3,
   "id": "a84090b3",
   "metadata": {},
   "outputs": [
    {
     "name": "stdout",
     "output_type": "stream",
     "text": [
      "[False False  True  True]\n"
     ]
    }
   ],
   "source": [
    "##sorting boolean value\n",
    "import numpy as np\n",
    "x=np.array([True,False,True,False])\n",
    "print(np.sort(x))"
   ]
  },
  {
   "cell_type": "code",
   "execution_count": 4,
   "id": "25de75e5",
   "metadata": {},
   "outputs": [
    {
     "name": "stdout",
     "output_type": "stream",
     "text": [
      "[[   1    2    3 6756]\n",
      " [  25  212  235  434]]\n"
     ]
    }
   ],
   "source": [
    "##sorting of 2D array\n",
    "import numpy as np\n",
    "x=np.array([[1,2,3,6756],[212,434,25,235]])\n",
    "print(np.sort(x))"
   ]
  },
  {
   "cell_type": "code",
   "execution_count": null,
   "id": "b042175f",
   "metadata": {},
   "outputs": [],
   "source": []
  }
 ],
 "metadata": {
  "kernelspec": {
   "display_name": "Python 3",
   "language": "python",
   "name": "python3"
  },
  "language_info": {
   "codemirror_mode": {
    "name": "ipython",
    "version": 3
   },
   "file_extension": ".py",
   "mimetype": "text/x-python",
   "name": "python",
   "nbconvert_exporter": "python",
   "pygments_lexer": "ipython3",
   "version": "3.13.3"
  }
 },
 "nbformat": 4,
 "nbformat_minor": 5
}
