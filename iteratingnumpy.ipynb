{
 "cells": [
  {
   "cell_type": "code",
   "execution_count": null,
   "id": "c3f23b0f",
   "metadata": {},
   "outputs": [],
   "source": [
    "##iterating imply going to each element one by one\n",
    "##1 D array\n",
    "import numpy as np\n",
    "x=np.array([123,545,678,234567])\n",
    "for i in x:\n",
    "    print(i)\n"
   ]
  },
  {
   "cell_type": "code",
   "execution_count": null,
   "id": "1f85b69c",
   "metadata": {},
   "outputs": [],
   "source": [
    "#for 2 D array\n",
    "import numpy as np\n",
    "x=np.array([[123,545,678,234567],[2343,49897,8676,353]])\n",
    "for i in x:\n",
    "    print(i)\n",
    "## iterating each scaler in 2D array\n",
    "import numpy as np\n",
    "x=np.array([[123,545,678,234567],[2343,49897,8676,353]])\n",
    "for i in x:\n",
    "    for a in i:             ##use nested for loop\n",
    "        print(a)"
   ]
  },
  {
   "cell_type": "code",
   "execution_count": null,
   "id": "fca53e13",
   "metadata": {},
   "outputs": [],
   "source": [
    "## iterated each scaler of 3D\n",
    "import numpy as np\n",
    "x=np.array([[[133,567,4356,12345],[2345,34565,234,234],[32,345,234,23],[23,34,34,234]]])\n",
    "for i in x:\n",
    "    for a in i:\n",
    "        for b in a:\n",
    "            print(b)"
   ]
  },
  {
   "cell_type": "code",
   "execution_count": null,
   "id": "02251a39",
   "metadata": {},
   "outputs": [],
   "source": [
    "## iteration by np.nditer()\n",
    "import numpy as np\n",
    "x=np.array([[[133,567,4356,12345],[2345,34565,234,234],[32,345,234,23],[23,34,34,234]]])\n",
    "for i in np.nditer(x):\n",
    "    print(i)"
   ]
  },
  {
   "cell_type": "code",
   "execution_count": null,
   "id": "db561d84",
   "metadata": {},
   "outputs": [],
   "source": [
    "##iterate with different stepsize (slicing)\n",
    "import numpy as np\n",
    "x=np.array([[123,545,678,234567],[2343,49897,8676,353]])\n",
    "for i in np.nditer(x[:, ::2]):\n",
    "    print(i)"
   ]
  },
  {
   "cell_type": "code",
   "execution_count": null,
   "id": "0cc80029",
   "metadata": {},
   "outputs": [],
   "source": []
  }
 ],
 "metadata": {
  "language_info": {
   "name": "python"
  }
 },
 "nbformat": 4,
 "nbformat_minor": 5
}
