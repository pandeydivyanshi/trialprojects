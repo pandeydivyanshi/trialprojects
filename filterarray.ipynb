{
 "cells": [
  {
   "cell_type": "code",
   "execution_count": 1,
   "id": "a039b75b",
   "metadata": {},
   "outputs": [
    {
     "name": "stdout",
     "output_type": "stream",
     "text": [
      "[ 1 45 32]\n"
     ]
    }
   ],
   "source": [
    "##filtering miply getting some elements out and creating new array\n",
    "##a boolean index list is list of boolean corresponding to index in array\n",
    "import numpy as np\n",
    "x=np.array([1,232,45,654,32])\n",
    "y=np.array([True,False,True,False,True])\n",
    "z=x[y]\n",
    "print(z)                                        #[ 1 45 32]\n"
   ]
  },
  {
   "cell_type": "code",
   "execution_count": 2,
   "id": "762fec96",
   "metadata": {},
   "outputs": [
    {
     "name": "stdout",
     "output_type": "stream",
     "text": [
      "[ 6  7  8  9 10 11 12]\n",
      "[False, False, False, False, False, True, True, True, True, True, True, True]\n"
     ]
    }
   ],
   "source": [
    "##by filtering\n",
    "##printing number higher than 5\n",
    "import numpy as np\n",
    "x=np.array([1,2,3,4,5,6,7,8,9,10,11,12])\n",
    "array=[]\n",
    "for i in x:\n",
    "    if i>5:\n",
    "        array.append(True)\n",
    "    else:\n",
    "        array.append(False)\n",
    "z=x[array]\n",
    "print(z)\n",
    "print(array)"
   ]
  },
  {
   "cell_type": "code",
   "execution_count": 3,
   "id": "098f3fc4",
   "metadata": {},
   "outputs": [
    {
     "name": "stdout",
     "output_type": "stream",
     "text": [
      "[ 2  4  6  8 10 12]\n"
     ]
    }
   ],
   "source": [
    "##creating filter array of even elements\n",
    "import numpy as np\n",
    "x=np.array([1,2,3,4,5,6,7,8,9,10,11,12])\n",
    "array=[]\n",
    "for i in x:\n",
    "    if i%2==0:\n",
    "        array.append(True)\n",
    "    else:\n",
    "        array.append(False)\n",
    "z=x[array]\n",
    "print(z)"
   ]
  },
  {
   "cell_type": "code",
   "execution_count": 4,
   "id": "9c01c742",
   "metadata": {},
   "outputs": [
    {
     "name": "stdout",
     "output_type": "stream",
     "text": [
      "[False  True False  True False False  True False False]\n",
      "[232 654 323]\n"
     ]
    }
   ],
   "source": [
    "##filter array direct by orignal array\n",
    "import numpy as np\n",
    "x=np.array([1,232,45,654,32,55,323,66,33,])\n",
    "y=x>100                                         ##direct assinginf condition rather than true false\n",
    "z=x[y]\n",
    "print(y)\n",
    "print(z)"
   ]
  },
  {
   "cell_type": "code",
   "execution_count": 5,
   "id": "3da57d99",
   "metadata": {},
   "outputs": [
    {
     "name": "stdout",
     "output_type": "stream",
     "text": [
      "[False  True False  True False  True False  True False  True False  True]\n",
      "[ 2  4  6  8 10 12]\n"
     ]
    }
   ],
   "source": [
    "##even numnber\n",
    "import numpy as np\n",
    "x=np.array([1,2,3,4,5,6,7,8,9,10,11,12])\n",
    "y=x%2==0                 ##direct assinginf condition rather than true false\n",
    "z=x[y]\n",
    "print(y)\n",
    "print(z)"
   ]
  },
  {
   "cell_type": "code",
   "execution_count": null,
   "id": "2776fc56",
   "metadata": {},
   "outputs": [],
   "source": []
  },
  {
   "cell_type": "code",
   "execution_count": null,
   "id": "43001528",
   "metadata": {},
   "outputs": [],
   "source": []
  }
 ],
 "metadata": {
  "kernelspec": {
   "display_name": "Python 3",
   "language": "python",
   "name": "python3"
  },
  "language_info": {
   "codemirror_mode": {
    "name": "ipython",
    "version": 3
   },
   "file_extension": ".py",
   "mimetype": "text/x-python",
   "name": "python",
   "nbconvert_exporter": "python",
   "pygments_lexer": "ipython3",
   "version": "3.13.3"
  }
 },
 "nbformat": 4,
 "nbformat_minor": 5
}
