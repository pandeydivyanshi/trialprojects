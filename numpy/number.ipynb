{
 "cells": [
  {
   "cell_type": "code",
   "execution_count": 1,
   "id": "5c08ea7d",
   "metadata": {},
   "outputs": [
    {
     "name": "stdout",
     "output_type": "stream",
     "text": [
      "numpy version: 2.3.0\n"
     ]
    }
   ],
   "source": [
    "import numpy as np\n",
    "print(\"numpy version:\", np.__version__)"
   ]
  },
  {
   "cell_type": "code",
   "execution_count": 2,
   "id": "4734342b",
   "metadata": {},
   "outputs": [
    {
     "name": "stdout",
     "output_type": "stream",
     "text": [
      "x: [1 2 3 4 5]\n",
      "type of x: <class 'numpy.ndarray'>\n"
     ]
    }
   ],
   "source": [
    "##now we will create a numpy ndarray object\n",
    "##the array object in numpy is called ndarray\n",
    "#array()\n",
    "x=np.array([1,2,3,4,5])\n",
    "print(\"x:\", x)\n",
    "print(\"type of x:\", type(x))"
   ]
  },
  {
   "cell_type": "code",
   "execution_count": 3,
   "id": "5a5e9ca3",
   "metadata": {},
   "outputs": [
    {
     "name": "stdout",
     "output_type": "stream",
     "text": [
      "a: [1 2 3 4 5]\n",
      "type of a: <class 'numpy.ndarray'>\n"
     ]
    }
   ],
   "source": [
    "## we can also pass a list of list,tuple or an array loke onject with array() and it will create a ndarray\n",
    "import numpy as np\n",
    "a=np.array((1,2,3,4,5),)\n",
    "print(\"a:\", a)\n",
    "print(\"type of a:\", type(a))"
   ]
  },
  {
   "cell_type": "code",
   "execution_count": 4,
   "id": "4b4286f4",
   "metadata": {},
   "outputs": [
    {
     "name": "stdout",
     "output_type": "stream",
     "text": [
      "b: 5\n",
      "c: [1 2 3 4 5]\n",
      "d: [[1 2 3]\n",
      " [4 5 6]]\n",
      "type of d: <class 'numpy.ndarray'>\n",
      "n: [[[ 1  2  3]\n",
      "  [ 6  7 88]]\n",
      "\n",
      " [[88 22 11]\n",
      "  [33 44 55]]]\n",
      "type of n: <class 'numpy.ndarray'>\n"
     ]
    }
   ],
   "source": [
    "##dimension in array\n",
    "##dimension in array is one level of array depth(also called nested array)\n",
    "##0d array is a scalar\n",
    "#e.g\n",
    "b=np.array(5)\n",
    "print(\"b:\", b)\n",
    "#1D array is a vector \n",
    "#e.g\n",
    "c=np.array([1,2,3,4,5])\n",
    "print(\"c:\", c)\n",
    "##creating a 2D array\n",
    "import numpy as np\n",
    "d=np.array([[1,2,3],[4,5,6]])\n",
    "print(\"d:\", d)\n",
    "print(\"type of d:\", type(d))\n",
    "##creating a 3D array frome 2D array\n",
    "import numpy as np\n",
    "n=np.array([[[1,2,3],[6,7,88]],[[88,22,11],[33,44,55]]])\n",
    "print(\"n:\", n)\n",
    "print(\"type of n:\", type(n))"
   ]
  },
  {
   "cell_type": "code",
   "execution_count": 5,
   "id": "8068a5ef",
   "metadata": {},
   "outputs": [
    {
     "name": "stdout",
     "output_type": "stream",
     "text": [
      "b.ndim: 0\n",
      "c.ndim: 1\n",
      "d.ndim: 2\n",
      "n.ndim: 3\n",
      "e: [[[[[ 1 23  4  5  6]]]]]\n",
      "e.ndim: 5\n"
     ]
    }
   ],
   "source": [
    "##check how many dimensions an array has by attribute ndim\n",
    "import numpy as np\n",
    "b=np.array(5)\n",
    "c=np.array([1,2,3,4,5])\n",
    "d=np.array([[1,2,3],[4,5,6]])\n",
    "n=np.array([[[1,2,3],[6,7,88]],[[88,22,11],[33,44,55]]])\n",
    "print(\"b.ndim:\", b.ndim)\n",
    "print(\"c.ndim:\", c.ndim)\n",
    "print(\"d.ndim:\", d.ndim)\n",
    "print(\"n.ndim:\", n.ndim)\n",
    "##create an 5D array to check the ndim attribute\n",
    "import numpy as np\n",
    "e=np.array([1,23,4,5,6],ndmin=5)\n",
    "print(\"e:\", e)\n",
    "print(\"e.ndim:\", e.ndim)"
   ]
  },
  {
   "cell_type": "code",
   "execution_count": 6,
   "id": "4a7dd8c7",
   "metadata": {},
   "outputs": [
    {
     "name": "stdout",
     "output_type": "stream",
     "text": [
      "b.shape: ()\n",
      "c.shape: (5,)\n",
      "d.shape: (2, 3)\n",
      "n.shape: (2, 2, 3)\n",
      "e.shape: (1, 1, 1, 1, 5)\n"
     ]
    }
   ],
   "source": [
    "##check the shape of an array by attribute shape\n",
    "import numpy as np\n",
    "b=np.array(5)\n",
    "c=np.array([1,2,3,4,5])\n",
    "d=np.array([[1,2,3],[4,5,6]])\n",
    "n=np.array([[[1,2,3],[6,7,88]],[[88,22,11],[33,44,55]]])\n",
    "e=np.array([1,23,4,5,6],ndmin=5)\n",
    "print(\"b.shape:\", b.shape)\n",
    "print(\"c.shape:\", c.shape)\n",
    "print(\"d.shape:\", d.shape)\n",
    "print(\"n.shape:\", n.shape)\n",
    "print(\"e.shape:\", e.shape)"
   ]
  }
 ],
 "metadata": {
  "kernelspec": {
   "display_name": "Python 3",
   "language": "python",
   "name": "python3"
  },
  "language_info": {
   "codemirror_mode": {
    "name": "ipython",
    "version": 3
   },
   "file_extension": ".py",
   "mimetype": "text/x-python",
   "name": "python",
   "nbconvert_exporter": "python",
   "pygments_lexer": "ipython3",
   "version": "3.13.3"
  }
 },
 "nbformat": 4,
 "nbformat_minor": 5
}
