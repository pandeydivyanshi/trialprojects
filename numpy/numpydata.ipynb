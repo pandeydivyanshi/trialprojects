{
 "cells": [
  {
   "cell_type": "code",
   "execution_count": 1,
   "id": "72d0695d",
   "metadata": {},
   "outputs": [
    {
     "name": "stdout",
     "output_type": "stream",
     "text": [
      "int64\n"
     ]
    }
   ],
   "source": [
    "##checking data type\n",
    "#i for integer\n",
    "#b for boolean\n",
    "#u for unsign integer\n",
    "#c for complex float\n",
    "#f for float\n",
    "#m for time delta\n",
    "#M for datetime\n",
    "#O for object\n",
    "#S for string\n",
    "#U for unicode string\n",
    "# V memory\n",
    "import numpy as np\n",
    "x=np.array([1,2,3,4,5])\n",
    "print(x.dtype)                                       ##it also give bites value\n"
   ]
  },
  {
   "cell_type": "code",
   "execution_count": 2,
   "id": "662977a8",
   "metadata": {},
   "outputs": [
    {
     "name": "stdout",
     "output_type": "stream",
     "text": [
      "<U5\n"
     ]
    }
   ],
   "source": [
    "##for string\n",
    "import numpy as np\n",
    "a=np.array([\"divya\",\"div\",\"arti\",\"syama\",\"dev\"])\n",
    "print(a.dtype)      "
   ]
  },
  {
   "cell_type": "code",
   "execution_count": 3,
   "id": "b25ed48a",
   "metadata": {},
   "outputs": [
    {
     "name": "stdout",
     "output_type": "stream",
     "text": [
      "[b'1' b'2' b'3' b'4' b'5']\n",
      "|S1\n"
     ]
    }
   ],
   "source": [
    "#CREATING array eith defined datatypye\n",
    "import numpy as np\n",
    "x=np.array([1,2,3,4,5],'S')\n",
    "print(x)\n",
    "print(x.dtype)                                       ##it also give bites value\n"
   ]
  },
  {
   "cell_type": "code",
   "execution_count": 4,
   "id": "9e8503a6",
   "metadata": {},
   "outputs": [
    {
     "name": "stdout",
     "output_type": "stream",
     "text": [
      "[1 2 3 4 5]\n",
      "int32\n"
     ]
    }
   ],
   "source": [
    "#creating array with 4 byte\n",
    "import numpy as np\n",
    "x=np.array([1,2,3,4,5],dtype='i4')\n",
    "print(x)\n",
    "print(x.dtype)                                       ##it also give bites value\n",
    "\n",
    "\n",
    "\n",
    "\n",
    "##if a type in which the element cannot be casted then numpy raise error \n",
    "# import numpy as np\n",
    "# x=np.array([1,'a','b'],'i')            # this raise error\n",
    "# print(x)\n",
    "# print(x.dtype)      "
   ]
  },
  {
   "cell_type": "code",
   "execution_count": 5,
   "id": "2549aeda",
   "metadata": {},
   "outputs": [
    {
     "name": "stdout",
     "output_type": "stream",
     "text": [
      "[1 2 3 4 5]\n",
      "[1.44  2.66  3.75  4.24  5.444]\n",
      "float64\n",
      "int32\n"
     ]
    }
   ],
   "source": [
    "#converting data type into existing array astpe() create copy of array\n",
    "import numpy as np\n",
    "x=np.array([1.44,2.66,3.75,4.24,5.444])\n",
    "y=x.astype('i')                                              ##this copy and make it into integer         \n",
    "print(y)\n",
    "print(x)\n",
    "print(x.dtype)                                       ##it also give bites value\n",
    "print(y.dtype)"
   ]
  },
  {
   "cell_type": "code",
   "execution_count": null,
   "id": "ca1ed0f4",
   "metadata": {},
   "outputs": [],
   "source": []
  },
  {
   "cell_type": "code",
   "execution_count": null,
   "id": "e21d7db4",
   "metadata": {},
   "outputs": [],
   "source": []
  },
  {
   "cell_type": "code",
   "execution_count": null,
   "id": "751e96e2",
   "metadata": {},
   "outputs": [],
   "source": []
  },
  {
   "cell_type": "code",
   "execution_count": null,
   "id": "32c77e26",
   "metadata": {},
   "outputs": [],
   "source": []
  }
 ],
 "metadata": {
  "kernelspec": {
   "display_name": "Python 3",
   "language": "python",
   "name": "python3"
  },
  "language_info": {
   "codemirror_mode": {
    "name": "ipython",
    "version": 3
   },
   "file_extension": ".py",
   "mimetype": "text/x-python",
   "name": "python",
   "nbconvert_exporter": "python",
   "pygments_lexer": "ipython3",
   "version": "3.13.3"
  }
 },
 "nbformat": 4,
 "nbformat_minor": 5
}
