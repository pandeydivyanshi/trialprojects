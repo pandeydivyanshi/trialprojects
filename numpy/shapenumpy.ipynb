{
 "cells": [
  {
   "cell_type": "code",
   "execution_count": 1,
   "id": "97840028",
   "metadata": {},
   "outputs": [
    {
     "name": "stdout",
     "output_type": "stream",
     "text": [
      "(2, 5)\n"
     ]
    }
   ],
   "source": [
    "##shape of array - it is no. of elements in each dimension of array\n",
    "import numpy as np\n",
    "x=np.array([[1,22,3,33,12],[1223,34,45,3,22]])\n",
    "print(x.shape)\n",
    "###output (2,5) imply dimension is 2 and each dimension has 5 element"
   ]
  },
  {
   "cell_type": "code",
   "execution_count": 2,
   "id": "62ced154",
   "metadata": {},
   "outputs": [
    {
     "name": "stdout",
     "output_type": "stream",
     "text": [
      "[[[[[233333   2321 348765 234567]]]]]\n",
      "(1, 1, 1, 1, 4)\n"
     ]
    }
   ],
   "source": [
    "#5D array using ndim\n",
    "import numpy as np\n",
    "x=np.array([233333,2321,348765,234567],ndmin=5)\n",
    "print(x)\n",
    "print(x.shape)\n",
    "##output (1,1,1,1,4)   fith dimen has 1 element ,fourth has 1 element and so on and last one D has 4elements\n"
   ]
  }
 ],
 "metadata": {
  "kernelspec": {
   "display_name": "Python 3",
   "language": "python",
   "name": "python3"
  },
  "language_info": {
   "codemirror_mode": {
    "name": "ipython",
    "version": 3
   },
   "file_extension": ".py",
   "mimetype": "text/x-python",
   "name": "python",
   "nbconvert_exporter": "python",
   "pygments_lexer": "ipython3",
   "version": "3.13.3"
  }
 },
 "nbformat": 4,
 "nbformat_minor": 5
}
