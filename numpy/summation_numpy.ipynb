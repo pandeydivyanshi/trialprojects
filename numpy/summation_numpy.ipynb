{
 "cells": [
  {
   "cell_type": "code",
   "execution_count": 5,
   "id": "c5d6b255",
   "metadata": {},
   "outputs": [
    {
     "name": "stdout",
     "output_type": "stream",
     "text": [
      "[5 7 9]\n"
     ]
    }
   ],
   "source": [
    "##summation is adding all element of array , add is adding two array\n",
    "import numpy as np \n",
    "x=np.array([1,2,3])\n",
    "y=np.array([4,5,6])\n",
    "z=np.add(x,y)\n",
    "print(z)"
   ]
  },
  {
   "cell_type": "code",
   "execution_count": 6,
   "id": "a08dbc5f",
   "metadata": {},
   "outputs": [
    {
     "name": "stdout",
     "output_type": "stream",
     "text": [
      "21\n"
     ]
    }
   ],
   "source": [
    "import numpy as np \n",
    "x=np.array([1,2,3])\n",
    "y=np.array([4,5,6])\n",
    "z=np.sum([x,y])                            ##gave single number 1+2+3+4+5+6=21\n",
    "print(z)"
   ]
  },
  {
   "cell_type": "code",
   "execution_count": 7,
   "id": "cec18b84",
   "metadata": {},
   "outputs": [
    {
     "name": "stdout",
     "output_type": "stream",
     "text": [
      "[ 6 15]\n"
     ]
    }
   ],
   "source": [
    "#summation over axis : if you specify axis = 1,numpy will sum number in each array\n",
    "import numpy as np \n",
    "x=np.array([1,2,3])\n",
    "y=np.array([4,5,6])\n",
    "z=np.sum([x,y],axis=1)                            \n",
    "print(z)"
   ]
  },
  {
   "cell_type": "code",
   "execution_count": 8,
   "id": "7be88d09",
   "metadata": {},
   "outputs": [
    {
     "name": "stdout",
     "output_type": "stream",
     "text": [
      "[ 1  3  6 10]\n"
     ]
    }
   ],
   "source": [
    "##cumulative  sum : means partially adding the element in array\n",
    "# example :[1,2,3,4] would be [1,1+2,1+2+3,1+2+3+4] =[1,3,6,10]\n",
    "##represented by cumsum()\n",
    "x=np.array([1,2,3,4])\n",
    "z=np.cumsum(x)\n",
    "print(z) "
   ]
  }
 ],
 "metadata": {
  "kernelspec": {
   "display_name": "Python 3",
   "language": "python",
   "name": "python3"
  },
  "language_info": {
   "codemirror_mode": {
    "name": "ipython",
    "version": 3
   },
   "file_extension": ".py",
   "mimetype": "text/x-python",
   "name": "python",
   "nbconvert_exporter": "python",
   "pygments_lexer": "ipython3",
   "version": "3.13.3"
  }
 },
 "nbformat": 4,
 "nbformat_minor": 5
}
