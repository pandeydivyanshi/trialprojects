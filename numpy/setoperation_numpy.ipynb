{
 "cells": [
  {
   "cell_type": "code",
   "execution_count": 1,
   "id": "e9b3349b",
   "metadata": {},
   "outputs": [
    {
     "name": "stdout",
     "output_type": "stream",
     "text": [
      "[  1   2   3   4   5  34  55  66 124]\n"
     ]
    }
   ],
   "source": [
    "## set collection of unique elements\n",
    "##creating set use unique()  method to find unqiue elements from any array\n",
    "##we will convert the array with repated element into set\n",
    "import numpy as np\n",
    "x=np.array([1,1,1,2,34,4,55,66,55,3,2,124,5,4])\n",
    "y=np.unique(x)\n",
    "print(y)"
   ]
  },
  {
   "cell_type": "code",
   "execution_count": 2,
   "id": "dae77533",
   "metadata": {},
   "outputs": [
    {
     "name": "stdout",
     "output_type": "stream",
     "text": [
      "[  1   2   3   4   5  11  13  21  34  55  66 124 165 255 266 342 755]\n"
     ]
    }
   ],
   "source": [
    "## to fine from 2 array union\n",
    "import numpy as np\n",
    "x=np.array([1,1,1,2,34,4,55,66,55,3,2,124,5,4])\n",
    "z=np.array([11,13,165,21,342,4,255,266,755,3,2,124,5,4])\n",
    "y=np.union1d(x,z)\n",
    "print(y)"
   ]
  },
  {
   "cell_type": "code",
   "execution_count": 3,
   "id": "63d19b7b",
   "metadata": {},
   "outputs": [
    {
     "name": "stdout",
     "output_type": "stream",
     "text": [
      "[  1   1   2   2   3   4   4   4   5  55 124]\n"
     ]
    }
   ],
   "source": [
    "##intersection\n",
    "import numpy as np\n",
    "x=np.array([1,1,1,2,34,4,55,66,55,3,2,124,5,4])\n",
    "z=np.array([11,13,165,21,342,4,255,266,755,3,2,124,5,4])\n",
    "y=np.intersect1d(x,z,assume_unique=True)\n",
    "print(y)"
   ]
  },
  {
   "cell_type": "code",
   "execution_count": 4,
   "id": "1bdc8a98",
   "metadata": {},
   "outputs": [
    {
     "name": "stdout",
     "output_type": "stream",
     "text": [
      "[ 1  1  1 34 55 66 55]\n"
     ]
    }
   ],
   "source": [
    "##value only in 1st array not in 2nd array\n",
    "import numpy as np\n",
    "x=np.array([1,1,1,2,34,4,55,66,55,3,2,124,5,4])\n",
    "z=np.array([11,13,165,21,342,4,255,266,755,3,2,124,5,4])\n",
    "y=np.setdiff1d(x,z,assume_unique=True)\n",
    "print(y)"
   ]
  },
  {
   "cell_type": "code",
   "execution_count": 5,
   "id": "ef33eab1",
   "metadata": {},
   "outputs": [
    {
     "name": "stdout",
     "output_type": "stream",
     "text": [
      "[ 11  13  21  34  66 165 255 266 342 755]\n"
     ]
    }
   ],
   "source": [
    "##value that are not in both sets use setxorld()\n",
    "import numpy as np\n",
    "x=np.array([1,1,1,2,34,4,55,66,55,3,2,124,5,4])\n",
    "z=np.array([11,13,165,21,342,4,255,266,755,3,2,124,5,4])\n",
    "y=np.setxor1d(x,z,assume_unique=True)\n",
    "print(y)"
   ]
  },
  {
   "cell_type": "code",
   "execution_count": null,
   "id": "e3026fe1",
   "metadata": {},
   "outputs": [],
   "source": []
  },
  {
   "cell_type": "code",
   "execution_count": null,
   "id": "946592ba",
   "metadata": {},
   "outputs": [],
   "source": []
  }
 ],
 "metadata": {
  "kernelspec": {
   "display_name": "Python 3",
   "language": "python",
   "name": "python3"
  },
  "language_info": {
   "codemirror_mode": {
    "name": "ipython",
    "version": 3
   },
   "file_extension": ".py",
   "mimetype": "text/x-python",
   "name": "python",
   "nbconvert_exporter": "python",
   "pygments_lexer": "ipython3",
   "version": "3.13.3"
  }
 },
 "nbformat": 4,
 "nbformat_minor": 5
}
