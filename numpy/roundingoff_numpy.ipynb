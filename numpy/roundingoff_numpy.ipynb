{
 "cells": [
  {
   "cell_type": "code",
   "execution_count": 1,
   "id": "be993f27",
   "metadata": {},
   "outputs": [
    {
     "name": "stdout",
     "output_type": "stream",
     "text": [
      "[ 12.32  23.44   3.24   3.34   0.34  24.99 -32.3 ]\n",
      "[ 12.  23.   3.   3.   0.  24. -32.]\n",
      "[ 12.  23.   3.   3.   0.  24. -32.]\n"
     ]
    }
   ],
   "source": [
    "##rounding decimal- 5 ways in numpy :truncation,fix,rounding,floor,ceil\n",
    "##truncation:trunc() and fix()\n",
    "##these command remove decimal and return integer closest to zero\n",
    "import numpy as np\n",
    "x=np.array([12.32,23.44,3.24,3.34,.34,24.99,-32.3])\n",
    "z=np.trunc(x)\n",
    "print(x)\n",
    "print(z)\n",
    "y=np.fix(x)\n",
    "print(y)"
   ]
  },
  {
   "cell_type": "code",
   "execution_count": 2,
   "id": "4400bc5c",
   "metadata": {},
   "outputs": [
    {
     "name": "stdout",
     "output_type": "stream",
     "text": [
      "[ 12.32  23.44   3.24   3.34   0.34  24.99 -32.3 ]\n",
      "[ 12.  23.   3.   3.   0.  25. -32.]\n"
     ]
    }
   ],
   "source": [
    "##rounding rounoff use around()\n",
    "x=np.array([12.32,23.44,3.24,3.34,.34,24.99,-32.3])\n",
    "z=np.around(x)\n",
    "print(x)\n",
    "print(z)"
   ]
  },
  {
   "cell_type": "code",
   "execution_count": 3,
   "id": "15f7e66e",
   "metadata": {},
   "outputs": [
    {
     "name": "stdout",
     "output_type": "stream",
     "text": [
      "[ 12.32  23.44   3.24   3.34   0.34  24.99 -32.3 ]\n",
      "[ 12.  23.   3.   3.   0.  24. -33.]\n"
     ]
    }
   ],
   "source": [
    "#floor() round off decimal to lower integer\n",
    "x=np.array([12.32,23.44,3.24,3.34,.34,24.99,-32.3])\n",
    "z=np.floor(x)\n",
    "print(x)\n",
    "print(z) "
   ]
  },
  {
   "cell_type": "code",
   "execution_count": 4,
   "id": "674f8444",
   "metadata": {},
   "outputs": [
    {
     "name": "stdout",
     "output_type": "stream",
     "text": [
      "[ 12.32  23.44   3.24   3.34   0.34  24.99 -32.3 ]\n",
      "[ 13.  24.   4.   4.   1.  25. -32.]\n"
     ]
    }
   ],
   "source": [
    "##ceil() round off decimal to greater interger\n",
    "x=np.array([12.32,23.44,3.24,3.34,.34,24.99,-32.3])\n",
    "z=np.ceil(x)\n",
    "print(x)\n",
    "print(z) "
   ]
  },
  {
   "cell_type": "code",
   "execution_count": null,
   "id": "17123a80",
   "metadata": {},
   "outputs": [],
   "source": []
  },
  {
   "cell_type": "code",
   "execution_count": null,
   "id": "5da3fe46",
   "metadata": {},
   "outputs": [],
   "source": []
  },
  {
   "cell_type": "code",
   "execution_count": null,
   "id": "c36f88e6",
   "metadata": {},
   "outputs": [],
   "source": []
  }
 ],
 "metadata": {
  "kernelspec": {
   "display_name": "Python 3",
   "language": "python",
   "name": "python3"
  },
  "language_info": {
   "codemirror_mode": {
    "name": "ipython",
    "version": 3
   },
   "file_extension": ".py",
   "mimetype": "text/x-python",
   "name": "python",
   "nbconvert_exporter": "python",
   "pygments_lexer": "ipython3",
   "version": "3.13.3"
  }
 },
 "nbformat": 4,
 "nbformat_minor": 5
}
