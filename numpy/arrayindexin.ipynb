{
 "cells": [
  {
   "cell_type": "code",
   "execution_count": 1,
   "id": "c6d01647",
   "metadata": {},
   "outputs": [
    {
     "name": "stdout",
     "output_type": "stream",
     "text": [
      "11\n",
      "54\n",
      "168\n",
      "4368\n"
     ]
    }
   ],
   "source": [
    "##array indexing is used to access elements of an array start from 0\n",
    "#1 D array indexing\n",
    "import numpy as np\n",
    "n=np.array([11,54,56,78,90])\n",
    "print(n[0])                             #accessing first element of array\n",
    "print(n[1])                                            #accessing second element of array\n",
    "##we can add/subtract/multiply/divide elements of an array\n",
    "print(n[3]+n[4])                      #adding 4th and 5th element of array\n",
    "print(n[2]*n[3])                      #multiplying 3rd and 4th element of array\n"
   ]
  },
  {
   "cell_type": "code",
   "execution_count": 2,
   "id": "00dbf04b",
   "metadata": {},
   "outputs": [
    {
     "name": "stdout",
     "output_type": "stream",
     "text": [
      "first element of first row 11\n",
      "third element of first row 67\n"
     ]
    }
   ],
   "source": [
    "#2 D array indexing\n",
    "#considering 2D array as a matrix\n",
    "n2=np.array([[11,54,56,78,90],[12,45,67,89,100]])\n",
    "print(\"first element of first row\",n2[0,0])                        #accessing first element of first row\n",
    "print(\"third element of first row\",n2[1,2])                        #accessing third element of second row"
   ]
  },
  {
   "cell_type": "code",
   "execution_count": 3,
   "id": "e33f87a9",
   "metadata": {},
   "outputs": [
    {
     "name": "stdout",
     "output_type": "stream",
     "text": [
      "first element of first row of first 2D array 11\n",
      "second element of second row of first 2D array 90\n"
     ]
    }
   ],
   "source": [
    "#3 D array indexing\n",
    "import numpy as np\n",
    "d=np.array([[[11,54,56],[78,90,12]],[[45,67,89],[100,101,102]]])\n",
    "print(\"first element of first row of first 2D array\",d[0,0,0])        #accessing first element of first row of first 2D array\n",
    "print(\"second element of second row of first 2D array\",d[0,1,1])      #accessing second element of second row of first 2D array"
   ]
  },
  {
   "cell_type": "code",
   "execution_count": null,
   "id": "9dba60d5",
   "metadata": {},
   "outputs": [],
   "source": []
  },
  {
   "cell_type": "code",
   "execution_count": null,
   "id": "63268673",
   "metadata": {},
   "outputs": [],
   "source": []
  },
  {
   "cell_type": "code",
   "execution_count": null,
   "id": "ee2f642f",
   "metadata": {},
   "outputs": [],
   "source": []
  }
 ],
 "metadata": {
  "kernelspec": {
   "display_name": "Python 3",
   "language": "python",
   "name": "python3"
  },
  "language_info": {
   "codemirror_mode": {
    "name": "ipython",
    "version": 3
   },
   "file_extension": ".py",
   "mimetype": "text/x-python",
   "name": "python",
   "nbconvert_exporter": "python",
   "pygments_lexer": "ipython3",
   "version": "3.13.3"
  }
 },
 "nbformat": 4,
 "nbformat_minor": 5
}
