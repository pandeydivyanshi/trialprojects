{
 "cells": [
  {
   "cell_type": "code",
   "execution_count": 1,
   "id": "ddb94243",
   "metadata": {},
   "outputs": [
    {
     "name": "stdout",
     "output_type": "stream",
     "text": [
      "[  23   34  456 6547  435   21   98  132]\n"
     ]
    }
   ],
   "source": [
    "##numpy random module provide two method 1.suffel()   2.permutation()\n",
    "#now we shuffel element of array\n",
    "##shuffel() make change in orignal array\n",
    "from numpy import random\n",
    "import numpy as np\n",
    "x=np.array([132,435,6547,21,34,456,98,23])\n",
    "random.shuffle(x)\n",
    "print(x)"
   ]
  },
  {
   "cell_type": "code",
   "execution_count": 2,
   "id": "1fda9f2d",
   "metadata": {},
   "outputs": [
    {
     "name": "stdout",
     "output_type": "stream",
     "text": [
      "[ 435   98   34   23  132 6547  456   21]\n"
     ]
    }
   ],
   "source": [
    "##now by permutation\n",
    "##permutatin() leave orignal value unchanged\n",
    "from numpy import random\n",
    "import numpy as np\n",
    "x=np.array([132,435,6547,21,34,456,98,23])\n",
    "print(random.permutation(x))\n"
   ]
  },
  {
   "cell_type": "code",
   "execution_count": null,
   "id": "6c931dcf",
   "metadata": {},
   "outputs": [],
   "source": []
  },
  {
   "cell_type": "code",
   "execution_count": null,
   "id": "9eb494af",
   "metadata": {},
   "outputs": [],
   "source": []
  },
  {
   "cell_type": "code",
   "execution_count": null,
   "id": "0b1064d6",
   "metadata": {},
   "outputs": [],
   "source": []
  },
  {
   "cell_type": "code",
   "execution_count": null,
   "id": "82aace46",
   "metadata": {},
   "outputs": [],
   "source": []
  }
 ],
 "metadata": {
  "kernelspec": {
   "display_name": "Python 3",
   "language": "python",
   "name": "python3"
  },
  "language_info": {
   "codemirror_mode": {
    "name": "ipython",
    "version": 3
   },
   "file_extension": ".py",
   "mimetype": "text/x-python",
   "name": "python",
   "nbconvert_exporter": "python",
   "pygments_lexer": "ipython3",
   "version": "3.13.3"
  }
 },
 "nbformat": 4,
 "nbformat_minor": 5
}
