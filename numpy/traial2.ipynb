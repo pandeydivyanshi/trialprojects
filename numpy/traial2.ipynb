{
 "cells": [
  {
   "cell_type": "code",
   "execution_count": 1,
   "id": "60469b60",
   "metadata": {},
   "outputs": [
    {
     "name": "stdout",
     "output_type": "stream",
     "text": [
      "The first number is less than the second number.\n"
     ]
    }
   ],
   "source": [
    "##python calculator.py\n",
    "num1=float(input(\"Enter a number: \"))\n",
    "num2=float(input(\"Enter another number: \"))\n",
    "if num1 > num2:\n",
    "    print(\"The first number is greater than the second number.\")\n",
    "elif num1 < num2:\n",
    "    print(\"The first number is less than the second number.\")\n",
    "else:\n",
    "    print(\"The two numbers are equal.\")\n",
    "    "
   ]
  },
  {
   "cell_type": "code",
   "execution_count": 2,
   "id": "a1050067",
   "metadata": {},
   "outputs": [
    {
     "name": "stdout",
     "output_type": "stream",
     "text": [
      "The result of 12.0 * 33.0 is: 396.0\n"
     ]
    }
   ],
   "source": [
    "## calculation\n",
    "operation = input(\"Enter an operation (+, -, *, /): \")\n",
    "if operation == '+':\n",
    "    result = num1 + num2\n",
    "elif operation == '-':\n",
    "    result = num1 - num2\n",
    "elif operation == '*':\n",
    "    result = num1 * num2\n",
    "elif operation == '/':\n",
    "    if num2 != 0:\n",
    "        result = num1 / num2\n",
    "    else:\n",
    "        result = \"Error: Division by zero is not allowed.\"\n",
    "else:\n",
    "    result = \"Error: Invalid operation.\"\n",
    "print(f\"The result of {num1} {operation} {num2} is: {result}\")\n"
   ]
  },
  {
   "cell_type": "code",
   "execution_count": 3,
   "id": "cf2e7d02",
   "metadata": {},
   "outputs": [
    {
     "name": "stdout",
     "output_type": "stream",
     "text": [
      "The square root of 66.0 is: 8.12403840463596\n"
     ]
    }
   ],
   "source": [
    "##square root\n",
    "import math\n",
    "def square_root(num):\n",
    "    if num < 0:\n",
    "        return \"Error: Cannot compute the square root of a negative number.\"\n",
    "    return math.sqrt(num)\n",
    "num = float(input(\"Enter a number to find its square root: \"))\n",
    "sqrt_result = square_root(num)\n",
    "if isinstance(sqrt_result, str):\n",
    "    print(sqrt_result)\n",
    "else:\n",
    "    print(f\"The square root of {num} is: {sqrt_result}\")\n",
    "    "
   ]
  },
  {
   "cell_type": "code",
   "execution_count": 4,
   "id": "2d61a3ef",
   "metadata": {},
   "outputs": [
    {
     "name": "stdout",
     "output_type": "stream",
     "text": [
      "The factorial of 8 is: 40320\n"
     ]
    }
   ],
   "source": [
    "## factorial by recursion\n",
    "def factorial(n):\n",
    "    if n < 0:\n",
    "        return \"Error: Factorial of a negative number is not defined.\"\n",
    "    elif n == 0 or n == 1:\n",
    "        return 1\n",
    "    else:\n",
    "        return n * factorial(n - 1)\n",
    "num = int(input(\"Enter a number to find its factorial: \"))\n",
    "fact_result = factorial(num)\n",
    "print(f\"The factorial of {num} is: {fact_result}\")\n"
   ]
  },
  {
   "cell_type": "code",
   "execution_count": 5,
   "id": "6ec5bbba",
   "metadata": {},
   "outputs": [
    {
     "name": "stdout",
     "output_type": "stream",
     "text": [
      "The factorial of 8 using the math module is: 40320\n"
     ]
    }
   ],
   "source": [
    "##factorial by module\n",
    "import math\n",
    "def factorial_module(n):\n",
    "    if n < 0:\n",
    "        return \"Error: Factorial of a negative number is not defined.\"\n",
    "    return math.factorial(n)\n",
    "num = int(input(\"Enter a number to find its factorial using the math module: \"))\n",
    "fact_module_result = factorial_module(num)\n",
    "print(f\"The factorial of {num} using the math module is: {fact_module_result}\")\n"
   ]
  },
  {
   "cell_type": "code",
   "execution_count": 6,
   "id": "575d7d7f",
   "metadata": {},
   "outputs": [
    {
     "name": "stdout",
     "output_type": "stream",
     "text": [
      "Index 0 is even: apple\n",
      "Index 1 is odd: banana\n",
      "Index 2 is even: cherry\n",
      "Index 3 is odd: date\n",
      "Index 4 is even: elderberry\n",
      "Index 5 is odd: fig\n",
      "Index 6 is even: grape\n",
      "Current fruit: apple\n",
      "Current fruit: banana\n",
      "Current fruit: cherry\n",
      "Current fruit: date\n",
      "Current fruit: elderberry\n",
      "Current fruit: fig\n",
      "Current fruit: grape\n"
     ]
    }
   ],
   "source": [
    "list1=[\"apple\", \"banana\", \"cherry\", \"date\", \"elderberry\", \"fig\", \"grape\"]\n",
    "for i in range(len(list1)):\n",
    "    if i % 2 == 0:\n",
    "        print(f\"Index {i} is even: {list1[i]}\")\n",
    "    else:\n",
    "        print(f\"Index {i} is odd: {list1[i]}\")\n",
    "for n in list1:\n",
    "    print(f\"Current fruit: {n}\")"
   ]
  },
  {
   "cell_type": "code",
   "execution_count": null,
   "id": "aa020a58",
   "metadata": {},
   "outputs": [],
   "source": []
  },
  {
   "cell_type": "code",
   "execution_count": null,
   "id": "35f6f381",
   "metadata": {},
   "outputs": [],
   "source": []
  }
 ],
 "metadata": {
  "kernelspec": {
   "display_name": "Python 3",
   "language": "python",
   "name": "python3"
  },
  "language_info": {
   "codemirror_mode": {
    "name": "ipython",
    "version": 3
   },
   "file_extension": ".py",
   "mimetype": "text/x-python",
   "name": "python",
   "nbconvert_exporter": "python",
   "pygments_lexer": "ipython3",
   "version": "3.13.3"
  }
 },
 "nbformat": 4,
 "nbformat_minor": 5
}
