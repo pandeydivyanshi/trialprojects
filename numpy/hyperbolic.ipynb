{
 "cells": [
  {
   "cell_type": "code",
   "execution_count": 1,
   "id": "7166d848",
   "metadata": {},
   "outputs": [
    {
     "name": "stdout",
     "output_type": "stream",
     "text": [
      "2.3012989023072947\n"
     ]
    }
   ],
   "source": [
    "##hyperbolic function :ufunc such sinh(),cosh(),tanh() gave value in raidian\n",
    "## for value in degree sinh value of pi/2\n",
    "import numpy as np\n",
    "x=np.sinh(np.pi/2)\n",
    "print(x)"
   ]
  },
  {
   "cell_type": "code",
   "execution_count": 2,
   "id": "042de30c",
   "metadata": {},
   "outputs": [
    {
     "name": "stdout",
     "output_type": "stream",
     "text": [
      "[2.50917848 1.60028686 1.32460909 1.20397209]\n"
     ]
    }
   ],
   "source": [
    "##now we will find sin value of an array\n",
    "import numpy as np\n",
    "x=np.array([np.pi/2,np.pi/3,np.pi/4,np.pi/5])\n",
    "y=np.cosh(x)\n",
    "print(y)"
   ]
  },
  {
   "cell_type": "code",
   "execution_count": 3,
   "id": "6e2b3a7a",
   "metadata": {},
   "outputs": [
    {
     "name": "stdout",
     "output_type": "stream",
     "text": [
      "0.881373587019543\n"
     ]
    }
   ],
   "source": [
    "##find angles:arcsinh(),arccosh(),arctanh() take values in radian and produce tha corresponding sinh,cosh,tanh\n",
    "\n",
    "#we will now find the angle of 1.0\n",
    "import numpy as np\n",
    "x=np.arcsinh(1.0)\n",
    "print(x)"
   ]
  },
  {
   "cell_type": "code",
   "execution_count": 4,
   "id": "de1deac7",
   "metadata": {},
   "outputs": [
    {
     "name": "stdout",
     "output_type": "stream",
     "text": [
      "[ 0.88137359 -0.88137359  0.09983408]\n"
     ]
    }
   ],
   "source": [
    "##angle of each values in array\n",
    "import numpy as np\n",
    "x=np.array([1,-1,.1])\n",
    "y=np.arcsinh(x)\n",
    "print(y)"
   ]
  },
  {
   "cell_type": "code",
   "execution_count": null,
   "id": "e4985179",
   "metadata": {},
   "outputs": [],
   "source": []
  }
 ],
 "metadata": {
  "kernelspec": {
   "display_name": "Python 3",
   "language": "python",
   "name": "python3"
  },
  "language_info": {
   "codemirror_mode": {
    "name": "ipython",
    "version": 3
   },
   "file_extension": ".py",
   "mimetype": "text/x-python",
   "name": "python",
   "nbconvert_exporter": "python",
   "pygments_lexer": "ipython3",
   "version": "3.13.3"
  }
 },
 "nbformat": 4,
 "nbformat_minor": 5
}
