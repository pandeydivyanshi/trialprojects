{
 "cells": [
  {
   "cell_type": "code",
   "execution_count": 1,
   "id": "e3cd605e",
   "metadata": {},
   "outputs": [],
   "source": [
    "##create your ufunc , you have to define a function ,like you do in normal function in python ,then you add it to numpy with frompyfunc() method.\n",
    "## arguments of formfunc ():function,inputs,outputs\n",
    "##create your own ufunc for addition\n",
    "import numpy as np\n",
    "def myadd(x,y):\n",
    "    return x+y"
   ]
  },
  {
   "cell_type": "code",
   "execution_count": 2,
   "id": "e1184093",
   "metadata": {},
   "outputs": [
    {
     "name": "stdout",
     "output_type": "stream",
     "text": [
      "[6 8 10 12]\n",
      "<class 'numpy.ufunc'>\n"
     ]
    }
   ],
   "source": [
    "myadd= np.frompyfunc(myadd,2,1)           ##2 imply 2D array input and 1 imply 1D array output\n",
    "print(myadd([1,2,3,4],[5,6,7,8]))\n",
    "\n",
    "#checking this function is ufunc or not\n",
    "import numpy as np\n",
    "print(type(np.add))\n"
   ]
  },
  {
   "cell_type": "code",
   "execution_count": 3,
   "id": "22617c75",
   "metadata": {},
   "outputs": [
    {
     "name": "stdout",
     "output_type": "stream",
     "text": [
      "<class 'numpy._ArrayFunctionDispatcher'>\n"
     ]
    }
   ],
   "source": [
    "##concatenate\n",
    "import numpy as np\n",
    "print(type(np.concatenate))\n",
    "\n",
    "##what if ufunc does not exist\n",
    "# import numpy as np\n",
    "# print(type(np.divyanshi))               ## get error\n"
   ]
  },
  {
   "cell_type": "code",
   "execution_count": 4,
   "id": "e587d8db",
   "metadata": {},
   "outputs": [
    {
     "name": "stdout",
     "output_type": "stream",
     "text": [
      "fnc is ufunc\n"
     ]
    }
   ],
   "source": [
    "##checking ufunc by if statment\n",
    "import numpy as np\n",
    "if type(np.add) == np.ufunc:\n",
    "    print(\"fnc is ufunc\")\n",
    "else:\n",
    "    print(\"func is not ufunc\")"
   ]
  },
  {
   "cell_type": "code",
   "execution_count": null,
   "id": "832a8d90",
   "metadata": {},
   "outputs": [],
   "source": []
  }
 ],
 "metadata": {
  "kernelspec": {
   "display_name": "Python 3",
   "language": "python",
   "name": "python3"
  },
  "language_info": {
   "codemirror_mode": {
    "name": "ipython",
    "version": 3
   },
   "file_extension": ".py",
   "mimetype": "text/x-python",
   "name": "python",
   "nbconvert_exporter": "python",
   "pygments_lexer": "ipython3",
   "version": "3.13.3"
  }
 },
 "nbformat": 4,
 "nbformat_minor": 5
}
