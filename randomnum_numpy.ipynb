{
 "cells": [
  {
   "cell_type": "code",
   "execution_count": null,
   "id": "ec114cc1",
   "metadata": {},
   "outputs": [],
   "source": [
    "##rabndom imply something cant predict logically\n",
    "##generating random integer\n",
    "from numpy import random\n",
    "x=random.randint(100)                     ##genertae any random number from 1 to 100\n",
    "print(x)"
   ]
  },
  {
   "cell_type": "code",
   "execution_count": null,
   "id": "cf56e6b0",
   "metadata": {},
   "outputs": [],
   "source": [
    "##genertae any float via rand()\n",
    "from numpy import random\n",
    "x=random.rand()                       #3 genertae any random float from 0 to 1\n",
    "print(x)"
   ]
  },
  {
   "cell_type": "code",
   "execution_count": null,
   "id": "9433bac1",
   "metadata": {},
   "outputs": [],
   "source": [
    "#creating random array of 6 integer element from0 to 100\n",
    "from numpy import random\n",
    "x=random.randint(100,size=(6))\n",
    "print(x)"
   ]
  },
  {
   "cell_type": "code",
   "execution_count": null,
   "id": "3dfde1f7",
   "metadata": {},
   "outputs": [],
   "source": [
    "##creating random 2D array with 3rows and each have 6 element\n",
    "from numpy import random\n",
    "x=random.randint(100,size=(3,6))\n",
    "print(x)"
   ]
  },
  {
   "cell_type": "code",
   "execution_count": null,
   "id": "1f7f6eda",
   "metadata": {},
   "outputs": [],
   "source": [
    "##creating 1D 6 element in float\n",
    "from numpy import random\n",
    "x=random.rand(6)\n",
    "print(x) "
   ]
  },
  {
   "cell_type": "code",
   "execution_count": null,
   "id": "931a07e5",
   "metadata": {},
   "outputs": [],
   "source": [
    "##creating random 2D array with 3rows and each have 6 float element\n",
    "from numpy import random\n",
    "x=random.rand(3,6)\n",
    "print(x)"
   ]
  },
  {
   "cell_type": "code",
   "execution_count": null,
   "id": "953a02f3",
   "metadata": {},
   "outputs": [],
   "source": [
    "##genertaing random number from array with help of choice()\n",
    "from numpy import random\n",
    "x=random.choice([12,2,433,435,14,1435,3223])                     ##gave number in btw array\n",
    "print(x)"
   ]
  },
  {
   "cell_type": "code",
   "execution_count": null,
   "id": "7ec1b591",
   "metadata": {},
   "outputs": [],
   "source": [
    "##genertaing random number of 2D array with help of choice\n",
    "from numpy import random\n",
    "x=random.choice([12,2,433,435,14,1435,3223],size=(3,6))                       ##2D array with 3 row and each has 6 random element but they belong to that array element\n",
    "print(x) "
   ]
  },
  {
   "cell_type": "code",
   "execution_count": null,
   "id": "109ce354",
   "metadata": {},
   "outputs": [],
   "source": []
  }
 ],
 "metadata": {
  "language_info": {
   "name": "python"
  }
 },
 "nbformat": 4,
 "nbformat_minor": 5
}
