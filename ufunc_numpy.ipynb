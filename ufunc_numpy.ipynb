{
 "cells": [
  {
   "cell_type": "code",
   "execution_count": 1,
   "id": "4fb205a2",
   "metadata": {},
   "outputs": [
    {
     "name": "stdout",
     "output_type": "stream",
     "text": [
      "[5, 7, 9, 11]\n"
     ]
    }
   ],
   "source": [
    "##unfnc stands for universal function of numpy that operate on nparray\n",
    "##ufunc also take additional argument like where,dtype,out\n",
    "##vectorization - converting the iterative statment into vector based statment\n",
    "##example without ufunc ,here we will use python inbuilt zip()\n",
    "x=[1,2,3,4]\n",
    "y=[4,5,6,7]\n",
    "z=[]\n",
    "for i,j in zip(x,y):             #adding both list\n",
    "    z.append(i+j)\n",
    "print(z)"
   ]
  },
  {
   "cell_type": "code",
   "execution_count": 2,
   "id": "1fd89639",
   "metadata": {},
   "outputs": [
    {
     "name": "stdout",
     "output_type": "stream",
     "text": [
      "[ 5  7  9 11]\n"
     ]
    }
   ],
   "source": [
    "##with ufunc we will use add() function\n",
    "import numpy as np\n",
    "x=[1,2,3,4]\n",
    "y=[4,5,6,7]\n",
    "z=np.add(x,y)\n",
    "print(z)"
   ]
  }
 ],
 "metadata": {
  "kernelspec": {
   "display_name": "Python 3",
   "language": "python",
   "name": "python3"
  },
  "language_info": {
   "codemirror_mode": {
    "name": "ipython",
    "version": 3
   },
   "file_extension": ".py",
   "mimetype": "text/x-python",
   "name": "python",
   "nbconvert_exporter": "python",
   "pygments_lexer": "ipython3",
   "version": "3.13.3"
  }
 },
 "nbformat": 4,
 "nbformat_minor": 5
}
