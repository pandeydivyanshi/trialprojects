{
 "cells": [
  {
   "cell_type": "code",
   "execution_count": 1,
   "id": "d47f796d",
   "metadata": {},
   "outputs": [
    {
     "name": "stdout",
     "output_type": "stream",
     "text": [
      "[ 233 2588  556 1653]\n"
     ]
    }
   ],
   "source": [
    "##by using ufunc additional argument\n",
    "##addition\n",
    "import numpy as np\n",
    "x=np.array([1,2234,324,321])\n",
    "y=np.array([232,354,232,1332])\n",
    "z=np.add(x,y)\n",
    "print(z)"
   ]
  },
  {
   "cell_type": "code",
   "execution_count": 2,
   "id": "8623f7ac",
   "metadata": {},
   "outputs": [
    {
     "name": "stdout",
     "output_type": "stream",
     "text": [
      "[ -231  1880    92 -1011]\n"
     ]
    }
   ],
   "source": [
    "#substraction\n",
    "import numpy as np\n",
    "x=np.array([1,2234,324,321])\n",
    "y=np.array([232,354,232,1332])\n",
    "z=np.subtract(x,y)\n",
    "print(z)"
   ]
  },
  {
   "cell_type": "code",
   "execution_count": 3,
   "id": "a7bc9bd0",
   "metadata": {},
   "outputs": [
    {
     "name": "stdout",
     "output_type": "stream",
     "text": [
      "[   232 790836  75168 427572]\n"
     ]
    }
   ],
   "source": [
    "##multiplication\n",
    "import numpy as np\n",
    "x=np.array([1,2234,324,321])\n",
    "y=np.array([232,354,232,1332])\n",
    "z=np.multiply(x,y)\n",
    "print(z)"
   ]
  },
  {
   "cell_type": "code",
   "execution_count": 4,
   "id": "2e65b8e6",
   "metadata": {},
   "outputs": [
    {
     "name": "stdout",
     "output_type": "stream",
     "text": [
      "[4.31034483e-03 6.31073446e+00 1.39655172e+00 2.40990991e-01]\n"
     ]
    }
   ],
   "source": [
    "##division\n",
    "import numpy as np\n",
    "x=np.array([1,2234,324,321])\n",
    "y=np.array([232,354,232,1332])\n",
    "z=np.divide(x,y)\n",
    "print(z)"
   ]
  },
  {
   "cell_type": "code",
   "execution_count": 5,
   "id": "7ad91793",
   "metadata": {},
   "outputs": [
    {
     "name": "stdout",
     "output_type": "stream",
     "text": [
      "[    1    16   243 65536]\n"
     ]
    }
   ],
   "source": [
    "#power() fundtion value from 1st array to power of value of 2nd array to return new array\n",
    "import numpy as np\n",
    "x=np.array([1,2,3,4])\n",
    "y=np.array([3,4,5,8])\n",
    "z=np.power(x,y)\n",
    "print(z)"
   ]
  },
  {
   "cell_type": "code",
   "execution_count": 6,
   "id": "94656a34",
   "metadata": {},
   "outputs": [
    {
     "name": "stdout",
     "output_type": "stream",
     "text": [
      "[1 0 4 2]\n",
      "[1 0 4 2]\n"
     ]
    }
   ],
   "source": [
    "#reminder - mod()     reminder()    return reminder of 1 st array corrosponding to 2nd array and result in new array\n",
    "import numpy as np\n",
    "x=np.array([100,20,3989,4090])\n",
    "y=np.array([3,4,5,8])\n",
    "z=np.mod(x,y)\n",
    "print(z)  \n",
    "##reminder\n",
    "import numpy as np\n",
    "x=np.array([100,20,3989,4090])\n",
    "y=np.array([3,4,5,8])\n",
    "z=np.remainder(x,y)\n",
    "print(z)"
   ]
  },
  {
   "cell_type": "code",
   "execution_count": 7,
   "id": "951fbe21",
   "metadata": {},
   "outputs": [
    {
     "name": "stdout",
     "output_type": "stream",
     "text": [
      "[1 0 4 2]\n"
     ]
    }
   ],
   "source": [
    "##quotient and mod(reminder)\n",
    "#divmod() return both quotient and mod(reminder)\n",
    "import numpy as np\n",
    "x=np.array([100,20,3989,4090])\n",
    "y=np.array([3,4,5,8])\n",
    "z=np.remainder(x,y)\n",
    "print(z)"
   ]
  },
  {
   "cell_type": "code",
   "execution_count": 8,
   "id": "4e486e1e",
   "metadata": {},
   "outputs": [
    {
     "name": "stdout",
     "output_type": "stream",
     "text": [
      "[ 100   20 3989 4090]\n"
     ]
    }
   ],
   "source": [
    "##absolute() and abs() - do same operation but here we should use absolute() to avoid confusion with python in bulit function\n",
    "##math.abs()\n",
    "import numpy as np\n",
    "x=np.array([-100,-20,-3989,-4090])\n",
    "z=np.absolute(x)\n",
    "print(z)\n"
   ]
  },
  {
   "cell_type": "code",
   "execution_count": null,
   "id": "1688ea55",
   "metadata": {},
   "outputs": [],
   "source": []
  },
  {
   "cell_type": "code",
   "execution_count": null,
   "id": "f50f5964",
   "metadata": {},
   "outputs": [],
   "source": []
  }
 ],
 "metadata": {
  "kernelspec": {
   "display_name": "Python 3",
   "language": "python",
   "name": "python3"
  },
  "language_info": {
   "codemirror_mode": {
    "name": "ipython",
    "version": 3
   },
   "file_extension": ".py",
   "mimetype": "text/x-python",
   "name": "python",
   "nbconvert_exporter": "python",
   "pygments_lexer": "ipython3",
   "version": "3.13.3"
  }
 },
 "nbformat": 4,
 "nbformat_minor": 5
}
