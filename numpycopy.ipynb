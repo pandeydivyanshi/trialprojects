{
 "cells": [
  {
   "cell_type": "code",
   "execution_count": 1,
   "id": "32596f7e",
   "metadata": {},
   "outputs": [
    {
     "name": "stdout",
     "output_type": "stream",
     "text": [
      "[576786      2      3      4]\n",
      "[1 2 3 4]\n"
     ]
    }
   ],
   "source": [
    "##difference btw copy and view\n",
    "#we will make a copy ,change in original array and display both\n",
    "import numpy as np\n",
    "x=np.array([1,2,3,4])\n",
    "y=x.copy()\n",
    "x[0]=576786\n",
    "print(x)\n",
    "print(y)\n"
   ]
  },
  {
   "cell_type": "code",
   "execution_count": 2,
   "id": "6ed3f5b3",
   "metadata": {},
   "outputs": [
    {
     "name": "stdout",
     "output_type": "stream",
     "text": [
      "[2345678       2       3       4]\n",
      "[2345678       2       3       4]\n"
     ]
    }
   ],
   "source": [
    "##now we will make view and change original display both\n",
    "import numpy as np\n",
    "x=np.array([1,2,3,4])\n",
    "z=x.view()\n",
    "x[0]=2345678\n",
    "print(x)\n",
    "print(z)"
   ]
  },
  {
   "cell_type": "code",
   "execution_count": null,
   "id": "95789e60",
   "metadata": {},
   "outputs": [],
   "source": []
  }
 ],
 "metadata": {
  "kernelspec": {
   "display_name": "Python 3",
   "language": "python",
   "name": "python3"
  },
  "language_info": {
   "codemirror_mode": {
    "name": "ipython",
    "version": 3
   },
   "file_extension": ".py",
   "mimetype": "text/x-python",
   "name": "python",
   "nbconvert_exporter": "python",
   "pygments_lexer": "ipython3",
   "version": "3.13.3"
  }
 },
 "nbformat": 4,
 "nbformat_minor": 5
}
