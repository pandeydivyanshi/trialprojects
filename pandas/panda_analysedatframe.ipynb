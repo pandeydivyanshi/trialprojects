{
 "cells": [
  {
   "cell_type": "code",
   "execution_count": null,
   "id": "a4f57a87",
   "metadata": {},
   "outputs": [],
   "source": [
    "##vewing the data :one of the most used method for quick overview of dataframe is head()\n",
    "##this method return the header and a specified number of rows\n",
    "import pandas as pd\n",
    "df=pd.read_csv(r'c:\\Users\\divya\\Downloads\\pandas_practice_dataset.csv')      ##whole path\n",
    "print(df.head(4))                #starting 4 rows of table\n",
    "print(df.head())                 ##by default it printthe table"
   ]
  },
  {
   "cell_type": "code",
   "execution_count": null,
   "id": "4f968b67",
   "metadata": {},
   "outputs": [],
   "source": [
    "##tail \n",
    "df=pd.read_csv(r'c:\\Users\\divya\\Downloads\\pandas_practice_dataset.csv') \n",
    "print(df.tail(4))                 ## print last 4 rows of table\n"
   ]
  },
  {
   "cell_type": "code",
   "execution_count": null,
   "id": "e01dacb9",
   "metadata": {},
   "outputs": [],
   "source": [
    "##what if you want information about the data in dataframe\n",
    "##info()\n",
    "import pandas as pd\n",
    "df=pd.read_csv(r'c:\\Users\\divya\\Downloads\\pandas_practice_dataset.csv')      ##whole path\n",
    "print(df.info())"
   ]
  }
 ],
 "metadata": {
  "language_info": {
   "name": "python"
  }
 },
 "nbformat": 4,
 "nbformat_minor": 5
}
