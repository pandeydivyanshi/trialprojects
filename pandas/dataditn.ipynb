{
 "cells": [
  {
   "cell_type": "code",
   "execution_count": 1,
   "id": "105bd66d",
   "metadata": {},
   "outputs": [
    {
     "name": "stdout",
     "output_type": "stream",
     "text": [
      "[5 5 5 5 7 7 5 9 5 5 9 5 7 5 9 9 7 9 7 5 9 5 9 9 9 7 5 7 9 9 7 7 9 5 5 5 9\n",
      " 9 9 5 9 9 9 5 5 7 5 7 5 5 5 9 5 7 5 7 3 7 3 7 3 7 9 9 7 5 7 9 5 7 5 5 5 7\n",
      " 7 9 9 7 9 5 9 9 9 5 3 7 5 5 5 9 9 9 7 9 3 5 7 7 5 7]\n"
     ]
    }
   ],
   "source": [
    "##data ditn is list of all possible values and how often they appear\n",
    "##such list is imp when work with statistics and data science\n",
    "##creating 1D array with 100 values where each value has to be 3,5,7,9\n",
    "#the  prob that 3 is in set .1\n",
    "#the  prob that 5 is in set .4\n",
    "#the  prob that 7 is in set .3\n",
    "#the  prob that 9 is in set .2\n",
    "from numpy import random\n",
    "x=random.choice([3,5,7,9],p=[.1,.4,.3,.2],size=(100))\n",
    "print(x)"
   ]
  },
  {
   "cell_type": "code",
   "execution_count": 2,
   "id": "84c886e4",
   "metadata": {},
   "outputs": [
    {
     "name": "stdout",
     "output_type": "stream",
     "text": [
      "[[7 9 5 5 5]\n",
      " [7 9 7 9 7]\n",
      " [9 5 3 5 7]]\n"
     ]
    }
   ],
   "source": [
    "##now with 2D\n",
    "from numpy import random\n",
    "x=random.choice([3,5,7,9],p=[.1,.4,.3,.2],size=(3,5))\n",
    "print(x)\n"
   ]
  },
  {
   "cell_type": "code",
   "execution_count": null,
   "id": "19554f35",
   "metadata": {},
   "outputs": [],
   "source": []
  },
  {
   "cell_type": "code",
   "execution_count": null,
   "id": "0dfa87d5",
   "metadata": {},
   "outputs": [],
   "source": []
  },
  {
   "cell_type": "code",
   "execution_count": null,
   "id": "82ec6d4d",
   "metadata": {},
   "outputs": [],
   "source": []
  },
  {
   "cell_type": "code",
   "execution_count": null,
   "id": "2fc8bb22",
   "metadata": {},
   "outputs": [],
   "source": []
  }
 ],
 "metadata": {
  "kernelspec": {
   "display_name": "Python 3",
   "language": "python",
   "name": "python3"
  },
  "language_info": {
   "codemirror_mode": {
    "name": "ipython",
    "version": 3
   },
   "file_extension": ".py",
   "mimetype": "text/x-python",
   "name": "python",
   "nbconvert_exporter": "python",
   "pygments_lexer": "ipython3",
   "version": "3.13.3"
  }
 },
 "nbformat": 4,
 "nbformat_minor": 5
}
