{
 "cells": [
  {
   "cell_type": "code",
   "execution_count": null,
   "id": "e8e4925d",
   "metadata": {},
   "outputs": [],
   "source": [
    "##multinomial distribution\n",
    "##parameter:n(no.of trials),pvals(list of outcomes or possibility),size\n",
    "from numpy import random\n",
    "x=random.multinomial(n=50,pvals=[1/9,2/9,3/9,3/9])\n",
    "print(x)\n",
    "\n",
    "##multinomial will not provide single value\n"
   ]
  }
 ],
 "metadata": {
  "language_info": {
   "name": "python"
  }
 },
 "nbformat": 4,
 "nbformat_minor": 5
}
